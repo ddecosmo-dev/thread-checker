{
  "nbformat": 4,
  "nbformat_minor": 0,
  "metadata": {
    "colab": {
      "provenance": [],
      "authorship_tag": "ABX9TyN5kjAhprngahP0sR3jcbqc",
      "include_colab_link": true
    },
    "kernelspec": {
      "name": "python3",
      "display_name": "Python 3"
    },
    "language_info": {
      "name": "python"
    }
  },
  "cells": [
    {
      "cell_type": "markdown",
      "metadata": {
        "id": "view-in-github",
        "colab_type": "text"
      },
      "source": [
        "<a href=\"https://colab.research.google.com/github/ddecosmo-dev/thread-checker/blob/main/threadCheckerApplication.ipynb\" target=\"_parent\"><img src=\"https://colab.research.google.com/assets/colab-badge.svg\" alt=\"Open In Colab\"/></a>"
      ]
    },
    {
      "cell_type": "code",
      "execution_count": 49,
      "metadata": {
        "colab": {
          "base_uri": "https://localhost:8080/"
        },
        "id": "lXmWrJsA9o-N",
        "outputId": "cbebd99e-a864-4f33-bedf-fbb17ef83176"
      },
      "outputs": [
        {
          "output_type": "stream",
          "name": "stdout",
          "text": [
            "Libraries imported successfully!\n",
            "Drive already mounted at /content/drive; to attempt to forcibly remount, call drive.mount(\"/content/drive\", force_remount=True).\n",
            "Google Drive mounted successfully!\n"
          ]
        }
      ],
      "source": [
        "#@title  fastener Classifier GUI\n",
        "# ---------------------------------------------------------------------------------\n",
        "# Section 1: Setup and Imports\n",
        "# ---------------------------------------------------------------------------------\n",
        "# Core libraries for machine learning and image processing\n",
        "import tensorflow as tf\n",
        "import numpy as np\n",
        "from PIL import Image\n",
        "import io\n",
        "import json\n",
        "\n",
        "# Libraries for building the interactive GUI in Colab\n",
        "import ipywidgets as widgets\n",
        "from ipywidgets import Layout\n",
        "from google.colab import drive\n",
        "from IPython.display import display\n",
        "\n",
        "print(\"Libraries imported successfully!\")\n",
        "\n",
        "##constants\n",
        "IMG_HEIGHT = 224\n",
        "IMG_WIDTH = 224\n",
        "\n",
        "# ---------------------------------------------------------------------------------\n",
        "# Section 2: Connect to Google Drive\n",
        "# ---------------------------------------------------------------------------------\n",
        "# This will prompt you for authorization to access your Google Drive files.\n",
        "try:\n",
        "    drive.mount('/content/drive')\n",
        "    print(\"Google Drive mounted successfully!\")\n",
        "except Exception as e:\n",
        "    print(f\"Error mounting Google Drive: {e}\")\n",
        "\n",
        "#drive.mount(\"/content/drive\", force_remount=True)"
      ]
    },
    {
      "cell_type": "code",
      "source": [
        "#import data from training\n",
        "# ---------------------------------------------------------------------------------\n",
        "# Section 3: Configuration & Model Loading (from JSON)\n",
        "# ---------------------------------------------------------------------------------\n",
        "# --- IMPORTANT: UPDATE THESE TWO PATHS ---\n",
        "\n",
        "# 1. Path to the JSON file containing your class structure map.\n",
        "CLASS_MAP_PATH = '/content/drive/MyDrive/24-679 AI ML Projects/Project 0/class_map.json'\n",
        "\n",
        "# 2. Path to your trained model file.\n",
        "MODEL_PATH = '/content/drive/MyDrive/24-679 AI ML Projects/Project 0/thread_checker_model.keras'\n",
        "# --- End of Configuration ---\n"
      ],
      "metadata": {
        "id": "48z7HvkKIJTu"
      },
      "execution_count": 50,
      "outputs": []
    },
    {
      "cell_type": "code",
      "source": [
        "# Load the class map from the JSON file\n",
        "try:\n",
        "    with open(CLASS_MAP_PATH, 'r') as f:\n",
        "        class_map = json.load(f)\n",
        "    # Create the flat CLASS_NAMES list for the model's output index.\n",
        "    # It sorts the map by index (0, 1, 2...) and gets the corresponding key.\n",
        "    CLASS_NAMES = [key for key, value in sorted(class_map.items(), key=lambda item: item[1])]\n",
        "    print(f\"Successfully loaded {len(CLASS_NAMES)} class names from JSON map.\")\n",
        "except FileNotFoundError:\n",
        "    print(f\"ERROR: Class map file not found at {CLASS_MAP_PATH}. Please create it first.\")\n",
        "    CLASS_NAMES = []\n",
        "except Exception as e:\n",
        "    print(f\"An error occurred while loading the JSON map: {e}\")\n",
        "    CLASS_NAMES = []"
      ],
      "metadata": {
        "colab": {
          "base_uri": "https://localhost:8080/"
        },
        "id": "a24OwWUZC45p",
        "outputId": "6cfaa801-8c4f-4d5b-c2ea-4df6ec91f5cc"
      },
      "execution_count": 51,
      "outputs": [
        {
          "output_type": "stream",
          "name": "stdout",
          "text": [
            "Successfully loaded 3 class names from JSON map.\n"
          ]
        }
      ]
    },
    {
      "cell_type": "code",
      "source": [
        "# Load the CNN model\n",
        "model = None\n",
        "if CLASS_NAMES: # Only proceed if the class map loaded successfully\n",
        "    try:\n",
        "        model = tf.keras.models.load_model(MODEL_PATH)\n",
        "        print(f\"✅ Model loaded successfully from {MODEL_PATH}\")\n",
        "    except Exception as e:\n",
        "        print(f\"🚨 ERROR: Could not load the model file at {MODEL_PATH}. {e}\")"
      ],
      "metadata": {
        "colab": {
          "base_uri": "https://localhost:8080/"
        },
        "id": "CM3KdT24DicK",
        "outputId": "0535c74a-b85b-42d1-f0fd-00567ff00b12"
      },
      "execution_count": 52,
      "outputs": [
        {
          "output_type": "stream",
          "name": "stdout",
          "text": [
            "✅ Model loaded successfully from /content/drive/MyDrive/24-679 AI ML Projects/Project 0/thread_checker_model.keras\n"
          ]
        }
      ]
    },
    {
      "cell_type": "code",
      "source": [],
      "metadata": {
        "id": "bn0B7Qx1IC6I"
      },
      "execution_count": 52,
      "outputs": []
    }
  ]
}