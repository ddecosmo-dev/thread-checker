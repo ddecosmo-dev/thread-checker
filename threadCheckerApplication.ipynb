{
  "nbformat": 4,
  "nbformat_minor": 0,
  "metadata": {
    "colab": {
      "provenance": [],
      "authorship_tag": "ABX9TyOxI6GHlrCUpatuH0kUzI7E",
      "include_colab_link": true
    },
    "kernelspec": {
      "name": "python3",
      "display_name": "Python 3"
    },
    "language_info": {
      "name": "python"
    }
  },
  "cells": [
    {
      "cell_type": "markdown",
      "metadata": {
        "id": "view-in-github",
        "colab_type": "text"
      },
      "source": [
        "<a href=\"https://colab.research.google.com/github/ddecosmo-dev/thread-checker/blob/main/threadCheckerApplication.ipynb\" target=\"_parent\"><img src=\"https://colab.research.google.com/assets/colab-badge.svg\" alt=\"Open In Colab\"/></a>"
      ]
    },
    {
      "cell_type": "code",
      "execution_count": 1,
      "metadata": {
        "colab": {
          "base_uri": "https://localhost:8080/"
        },
        "id": "lXmWrJsA9o-N",
        "outputId": "6969e912-a79c-457a-8417-22ad65406781"
      },
      "outputs": [
        {
          "output_type": "stream",
          "name": "stdout",
          "text": [
            "Libraries imported successfully!\n",
            "Mounted at /content/drive\n",
            "Google Drive mounted successfully!\n"
          ]
        }
      ],
      "source": [
        "#@title  fastener Classifier GUI\n",
        "# ---------------------------------------------------------------------------------\n",
        "# Section 1: Setup and Imports\n",
        "# ---------------------------------------------------------------------------------\n",
        "# Core libraries for machine learning and image processing\n",
        "import tensorflow as tf\n",
        "import numpy as np\n",
        "from PIL import Image\n",
        "import io\n",
        "import json\n",
        "\n",
        "# Libraries for building the interactive GUI in Colab\n",
        "import ipywidgets as widgets\n",
        "from ipywidgets import Layout\n",
        "from google.colab import drive\n",
        "from IPython.display import display\n",
        "\n",
        "print(\"Libraries imported successfully!\")\n",
        "\n",
        "# ---------------------------------------------------------------------------------\n",
        "# Section 2: Connect to Google Drive\n",
        "# ---------------------------------------------------------------------------------\n",
        "# This will prompt you for authorization to access your Google Drive files.\n",
        "try:\n",
        "    drive.mount('/content/drive')\n",
        "    print(\"Google Drive mounted successfully!\")\n",
        "except Exception as e:\n",
        "    print(f\"Error mounting Google Drive: {e}\")"
      ]
    },
    {
      "cell_type": "code",
      "source": [],
      "metadata": {
        "id": "48z7HvkKIJTu"
      },
      "execution_count": 2,
      "outputs": []
    }
  ]
}