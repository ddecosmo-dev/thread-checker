{
  "nbformat": 4,
  "nbformat_minor": 0,
  "metadata": {
    "colab": {
      "provenance": [],
      "authorship_tag": "ABX9TyO4bZPk3OFz4DcW8uENSxjS",
      "include_colab_link": true
    },
    "kernelspec": {
      "name": "python3",
      "display_name": "Python 3"
    },
    "language_info": {
      "name": "python"
    }
  },
  "cells": [
    {
      "cell_type": "markdown",
      "metadata": {
        "id": "view-in-github",
        "colab_type": "text"
      },
      "source": [
        "<a href=\"https://colab.research.google.com/github/ddecosmo-dev/thread-checker/blob/main/threadCheckerBoundingBoxTrainer.ipynb\" target=\"_parent\"><img src=\"https://colab.research.google.com/assets/colab-badge.svg\" alt=\"Open In Colab\"/></a>"
      ]
    },
    {
      "cell_type": "code",
      "execution_count": 3,
      "metadata": {
        "colab": {
          "base_uri": "https://localhost:8080/"
        },
        "id": "JjeulXveQtBu",
        "outputId": "26bd159a-1358-4c43-adc2-f841fc907560"
      },
      "outputs": [
        {
          "output_type": "stream",
          "name": "stdout",
          "text": [
            "Drive already mounted at /content/drive; to attempt to forcibly remount, call drive.mount(\"/content/drive\", force_remount=True).\n",
            "Dataset already exists.\n"
          ]
        }
      ],
      "source": [
        "#import libraries and download testing data from kaggle\n",
        "#!kaggle datasets download -d devindecosmo/bolt-only-thread-checker-rev-1\n",
        "import tensorflow as tf\n",
        "from tensorflow.keras.layers import Rescaling\n",
        "import numpy as np\n",
        "import matplotlib.pyplot as plt\n",
        "import os\n",
        "import json\n",
        "from google.colab import drive\n",
        "\n",
        "drive.mount('/content/drive')\n",
        "\n",
        "# You will be prompted to upload your 'kaggle.json' API key file.\n",
        "# This only needs to be done once per session.\n",
        "if not os.path.exists(\"/root/.kaggle/kaggle.json\"):\n",
        "    from google.colab import files\n",
        "    print(\"Please upload your kaggle.json file\")\n",
        "    files.upload()\n",
        "    !mkdir -p ~/.kaggle\n",
        "    !cp kaggle.json ~/.kaggle/\n",
        "    !chmod 600 ~/.kaggle/kaggle.json\n",
        "\n",
        "# The name of the main folder that gets created after unzipping\n",
        "# Change 'training' if your main folder is named something else\n",
        "dataset_folder = 'images'\n",
        "\n",
        "if not os.path.exists(dataset_folder):\n",
        "  print('Dataset not found. Downloading...')\n",
        "  # Replace with the API command you copied from your dataset's Kaggle page\n",
        "  !kaggle datasets download -d sujan97/screws-and-nuts-image\n",
        "\n",
        "  # Replace with the actual name of the downloaded .zip file\n",
        "  !unzip -q screws-and-nuts-image.zip\n",
        "  print('Download and unzip complete.')\n",
        "else:\n",
        "  print('Dataset already exists.')"
      ]
    },
    {
      "cell_type": "code",
      "source": [
        "# Define the root dataset directory\n",
        "dataset_root = \"yolo_dataset\"\n",
        "os.makedirs(os.path.join(dataset_root, \"images\", \"train\"), exist_ok=True)\n",
        "os.makedirs(os.path.join(dataset_root, \"images\", \"val\"), exist_ok=True)\n",
        "os.makedirs(os.path.join(dataset_root, \"labels\", \"train\"), exist_ok=True)\n",
        "os.makedirs(os.path.join(dataset_root, \"labels\", \"val\"), exist_ok=True)\n",
        "\n",
        "print(\"Directory structure created.\")"
      ],
      "metadata": {
        "colab": {
          "base_uri": "https://localhost:8080/"
        },
        "id": "VOUbJLIqRDVd",
        "outputId": "95832547-1765-4c73-c978-c3927e6cfd19"
      },
      "execution_count": 4,
      "outputs": [
        {
          "output_type": "stream",
          "name": "stdout",
          "text": [
            "Directory structure created.\n"
          ]
        }
      ]
    }
  ]
}