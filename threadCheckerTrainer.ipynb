{
  "nbformat": 4,
  "nbformat_minor": 0,
  "metadata": {
    "colab": {
      "provenance": [],
      "authorship_tag": "ABX9TyMuNx9cbOfIoTG/6JZlG1uD",
      "include_colab_link": true
    },
    "kernelspec": {
      "name": "python3",
      "display_name": "Python 3"
    },
    "language_info": {
      "name": "python"
    }
  },
  "cells": [
    {
      "cell_type": "markdown",
      "metadata": {
        "id": "view-in-github",
        "colab_type": "text"
      },
      "source": [
        "<a href=\"https://colab.research.google.com/github/ddecosmo-dev/thread-checker/blob/main/threadCheckerTrainer.ipynb\" target=\"_parent\"><img src=\"https://colab.research.google.com/assets/colab-badge.svg\" alt=\"Open In Colab\"/></a>"
      ]
    },
    {
      "cell_type": "code",
      "source": [
        "#import libraries and download testing data from kaggle\n",
        "#!kaggle datasets download -d devindecosmo/bolt-only-thread-checker-rev-1\n",
        "import tensorflow as tf\n",
        "import numpy as np\n",
        "import matplotlib.pyplot as plt\n",
        "import os\n",
        "\n",
        "# You will be prompted to upload your 'kaggle.json' API key file.\n",
        "# This only needs to be done once per session.\n",
        "if not os.path.exists(\"/root/.kaggle/kaggle.json\"):\n",
        "    from google.colab import files\n",
        "    print(\"Please upload your kaggle.json file\")\n",
        "    files.upload()\n",
        "    !mkdir -p ~/.kaggle\n",
        "    !cp kaggle.json ~/.kaggle/\n",
        "    !chmod 600 ~/.kaggle/kaggle.json\n",
        "\n",
        "# The name of the main folder that gets created after unzipping\n",
        "# Change 'training' if your main folder is named something else\n",
        "dataset_folder = 'training'\n",
        "\n",
        "if not os.path.exists(dataset_folder):\n",
        "  print('Dataset not found. Downloading...')\n",
        "  # Replace with the API command you copied from your dataset's Kaggle page\n",
        "  !kaggle datasets download -d devindecosmo/thread-checker-bolts-only-3\n",
        "\n",
        "  # Replace with the actual name of the downloaded .zip file\n",
        "  !unzip -q thread-checker-bolts-only-3.zip\n",
        "  print('Download and unzip complete.')\n",
        "else:\n",
        "  print('Dataset already exists.')"
      ],
      "metadata": {
        "colab": {
          "base_uri": "https://localhost:8080/"
        },
        "id": "NjvXC19GJW7D",
        "outputId": "7790bda3-328c-4e17-f58d-ee65b66aa0b1"
      },
      "execution_count": 10,
      "outputs": [
        {
          "output_type": "stream",
          "name": "stdout",
          "text": [
            "Dataset not found. Downloading...\n",
            "Dataset URL: https://www.kaggle.com/datasets/devindecosmo/thread-checker-bolts-only-3\n",
            "License(s): apache-2.0\n",
            "thread-checker-bolts-only-3.zip: Skipping, found more recently modified local copy (use --force to force download)\n",
            "replace Thread Checker Rev 1, bolts only/training/bolt_0.125in/IMG_20250827_200434285_HDR.jpg? [y]es, [n]o, [A]ll, [N]one, [r]ename: N\n",
            "Download and unzip complete.\n"
          ]
        }
      ]
    },
    {
      "cell_type": "code",
      "source": [
        "\n",
        "#Constants\n",
        "BATCH_SIZE = 32\n",
        "IMG_HEIGHT = 224\n",
        "IMG_WIDTH = 224\n"
      ],
      "metadata": {
        "id": "GW2iBOiCQDgt"
      },
      "execution_count": null,
      "outputs": []
    },
    {
      "cell_type": "code",
      "source": [
        "#data preparation\n",
        "\n",
        "#resizing\n",
        "\n",
        "#normalizing\n",
        "\n",
        "#batching"
      ],
      "metadata": {
        "id": "NUf7UHA8N9IR"
      },
      "execution_count": null,
      "outputs": []
    },
    {
      "cell_type": "code",
      "source": [
        "#feature engineering"
      ],
      "metadata": {
        "id": "2S60fcB9ONUt"
      },
      "execution_count": null,
      "outputs": []
    },
    {
      "cell_type": "code",
      "source": [
        "#model selection and training"
      ],
      "metadata": {
        "id": "nxYV__BVOO8S"
      },
      "execution_count": null,
      "outputs": []
    },
    {
      "cell_type": "code",
      "source": [
        "#Evaluate training and graph"
      ],
      "metadata": {
        "id": "zqy8fqwVOTLP"
      },
      "execution_count": null,
      "outputs": []
    }
  ]
}