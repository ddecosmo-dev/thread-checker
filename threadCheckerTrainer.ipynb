{
  "cells": [
    {
      "cell_type": "markdown",
      "metadata": {
        "id": "view-in-github",
        "colab_type": "text"
      },
      "source": [
        "<a href=\"https://colab.research.google.com/github/ddecosmo-dev/thread-checker/blob/main/threadCheckerTrainer.ipynb\" target=\"_parent\"><img src=\"https://colab.research.google.com/assets/colab-badge.svg\" alt=\"Open In Colab\"/></a>"
      ]
    },
    {
      "cell_type": "code",
      "execution_count": 17,
      "metadata": {
        "id": "NjvXC19GJW7D",
        "colab": {
          "base_uri": "https://localhost:8080/"
        },
        "outputId": "5eb053ff-f439-42be-c131-2b616bcf311f"
      },
      "outputs": [
        {
          "output_type": "stream",
          "name": "stdout",
          "text": [
            "Drive already mounted at /content/drive; to attempt to forcibly remount, call drive.mount(\"/content/drive\", force_remount=True).\n",
            "Dataset already exists.\n"
          ]
        }
      ],
      "source": [
        "#import libraries and download testing data from kaggle\n",
        "#!kaggle datasets download -d devindecosmo/bolt-only-thread-checker-rev-1\n",
        "import tensorflow as tf\n",
        "from tensorflow.keras.layers import Rescaling\n",
        "import numpy as np\n",
        "import matplotlib.pyplot as plt\n",
        "import os\n",
        "import json\n",
        "from google.colab import drive\n",
        "from sklearn.metrics import confusion_matrix\n",
        "from sklearn.metrics import classification_report\n",
        "import seaborn as sns\n",
        "\n",
        "drive.mount('/content/drive')\n",
        "\n",
        "# You will be prompted to upload your 'kaggle.json' API key file.\n",
        "# This only needs to be done once per session.\n",
        "if not os.path.exists(\"/root/.kaggle/kaggle.json\"):\n",
        "    from google.colab import files\n",
        "    print(\"Please upload your kaggle.json file\")\n",
        "    files.upload()\n",
        "    !mkdir -p ~/.kaggle\n",
        "    !cp kaggle.json ~/.kaggle/\n",
        "    !chmod 600 ~/.kaggle/kaggle.json\n",
        "\n",
        "# The name of the main folder that gets created after unzipping\n",
        "# Change 'training' if your main folder is named something else\n",
        "dataset_folder = 'Thread Checker Rev 2, bolts only'\n",
        "\n",
        "if not os.path.exists(dataset_folder):\n",
        "  print('Dataset not found. Downloading...')\n",
        "  # Replace with the API command you copied from your dataset's Kaggle page\n",
        "  !kaggle datasets download -d devindecosmo/thread-checker-bolts-rev2\n",
        "\n",
        "  # Replace with the actual name of the downloaded .zip file\n",
        "  !unzip -q thread-checker-bolts-rev2.zip\n",
        "  print('Download and unzip complete.')\n",
        "else:\n",
        "  print('Dataset already exists.')"
      ]
    },
    {
      "cell_type": "code",
      "execution_count": 2,
      "metadata": {
        "id": "GW2iBOiCQDgt"
      },
      "outputs": [],
      "source": [
        "#Constants\n",
        "#data set creation\n",
        "VALIDATION_SPLIT = 0.2\n",
        "SEED = 123;\n",
        "\n",
        "#Data preparation\n",
        "BATCH_SIZE = 16\n",
        "#standard is 32\n",
        "IMG_HEIGHT = 224\n",
        "IMG_WIDTH = 224\n",
        "\n",
        "#Model\n",
        "\n",
        "#Training\n",
        "EPOCHS = 10\n",
        "LEARNING_RATE = 0.001\n",
        "\n",
        "\n",
        "# Define the correct paths to your nested data directories\n",
        "# Note: This assumes your unzipped folder is named 'Thread Checker Rev 1, bolts only'\n",
        "TRAIN_DIR = 'Thread Checker Rev 2, bolts only/training'"
      ]
    },
    {
      "cell_type": "code",
      "execution_count": 3,
      "metadata": {
        "id": "E02g06hmL7Mx",
        "colab": {
          "base_uri": "https://localhost:8080/"
        },
        "outputId": "fc2d6e98-5027-403e-8af8-3eb3573f3150"
      },
      "outputs": [
        {
          "output_type": "stream",
          "name": "stdout",
          "text": [
            "Starting to process images in directory tree: Thread Checker Rev 2, bolts only/training\n",
            "Processed and overwrote: Thread Checker Rev 2, bolts only/training/bolt_0.125in/IMG_20250902_134624211_HDR.jpg\n",
            "Processed and overwrote: Thread Checker Rev 2, bolts only/training/bolt_0.125in/IMG_20250827_200522935.jpg\n",
            "Processed and overwrote: Thread Checker Rev 2, bolts only/training/bolt_0.125in/IMG_20250827_200535204.jpg\n",
            "Processed and overwrote: Thread Checker Rev 2, bolts only/training/bolt_0.125in/IMG_20250902_134526177.jpg\n",
            "Processed and overwrote: Thread Checker Rev 2, bolts only/training/bolt_0.125in/IMG_20250902_134728085_HDR.jpg\n",
            "Processed and overwrote: Thread Checker Rev 2, bolts only/training/bolt_0.125in/IMG_20250902_134443391.jpg\n",
            "Processed and overwrote: Thread Checker Rev 2, bolts only/training/bolt_0.125in/IMG_20250902_134553224_HDR.jpg\n",
            "Processed and overwrote: Thread Checker Rev 2, bolts only/training/bolt_0.125in/IMG_20250827_200542577.jpg\n",
            "Processed and overwrote: Thread Checker Rev 2, bolts only/training/bolt_0.125in/IMG_20250902_134547448_HDR.jpg\n",
            "Processed and overwrote: Thread Checker Rev 2, bolts only/training/bolt_0.125in/IMG_20250902_134550545_HDR.jpg\n",
            "Processed and overwrote: Thread Checker Rev 2, bolts only/training/bolt_0.125in/IMG_20250902_134516972_HDR.jpg\n",
            "Processed and overwrote: Thread Checker Rev 2, bolts only/training/bolt_0.125in/IMG_20250902_134803540.jpg\n",
            "Processed and overwrote: Thread Checker Rev 2, bolts only/training/bolt_0.125in/IMG_20250902_134401574.jpg\n",
            "Processed and overwrote: Thread Checker Rev 2, bolts only/training/bolt_0.125in/IMG_20250902_134603152_HDR.jpg\n",
            "Processed and overwrote: Thread Checker Rev 2, bolts only/training/bolt_0.125in/IMG_20250902_134507780_HDR.jpg\n",
            "Processed and overwrote: Thread Checker Rev 2, bolts only/training/bolt_0.125in/IMG_20250827_132909833.jpg\n",
            "Processed and overwrote: Thread Checker Rev 2, bolts only/training/bolt_0.125in/IMG_20250902_134522914.jpg\n",
            "Processed and overwrote: Thread Checker Rev 2, bolts only/training/bolt_0.125in/IMG_20250902_134437292_HDR.jpg\n",
            "Processed and overwrote: Thread Checker Rev 2, bolts only/training/bolt_0.125in/IMG_20250902_134715569.jpg\n",
            "Processed and overwrote: Thread Checker Rev 2, bolts only/training/bolt_0.125in/IMG_20250827_200450221_HDR.jpg\n",
            "Processed and overwrote: Thread Checker Rev 2, bolts only/training/bolt_0.125in/IMG_20250902_134733925.jpg\n",
            "Processed and overwrote: Thread Checker Rev 2, bolts only/training/bolt_0.125in/IMG_20250902_134752262.jpg\n",
            "Processed and overwrote: Thread Checker Rev 2, bolts only/training/bolt_0.125in/IMG_20250902_134528929.jpg\n",
            "Processed and overwrote: Thread Checker Rev 2, bolts only/training/bolt_0.125in/IMG_20250902_134417158.jpg\n",
            "Processed and overwrote: Thread Checker Rev 2, bolts only/training/bolt_0.125in/IMG_20250902_134459471.jpg\n",
            "Processed and overwrote: Thread Checker Rev 2, bolts only/training/bolt_0.125in/IMG_20250902_134817455.jpg\n",
            "Processed and overwrote: Thread Checker Rev 2, bolts only/training/bolt_0.125in/IMG_20250902_134707091_HDR.jpg\n",
            "Processed and overwrote: Thread Checker Rev 2, bolts only/training/bolt_0.125in/IMG_20250902_134718387.jpg\n",
            "Processed and overwrote: Thread Checker Rev 2, bolts only/training/bolt_0.125in/IMG_20250902_134725213.jpg\n",
            "Processed and overwrote: Thread Checker Rev 2, bolts only/training/bolt_0.125in/IMG_20250902_134504964.jpg\n",
            "Processed and overwrote: Thread Checker Rev 2, bolts only/training/bolt_0.125in/IMG_20250827_200506366_HDR.jpg\n",
            "Processed and overwrote: Thread Checker Rev 2, bolts only/training/bolt_0.125in/IMG_20250902_134424910.jpg\n",
            "Processed and overwrote: Thread Checker Rev 2, bolts only/training/bolt_0.125in/IMG_20250902_134812361_HDR.jpg\n",
            "Processed and overwrote: Thread Checker Rev 2, bolts only/training/bolt_0.125in/IMG_20250902_134720748.jpg\n",
            "Processed and overwrote: Thread Checker Rev 2, bolts only/training/bolt_0.125in/IMG_20250902_134626489_HDR.jpg\n",
            "Processed and overwrote: Thread Checker Rev 2, bolts only/training/bolt_0.125in/IMG_20250902_134449398.jpg\n",
            "Processed and overwrote: Thread Checker Rev 2, bolts only/training/bolt_0.125in/IMG_20250827_132926798_HDR.jpg\n",
            "Processed and overwrote: Thread Checker Rev 2, bolts only/training/bolt_0.125in/IMG_20250902_134519452_HDR.jpg\n",
            "Processed and overwrote: Thread Checker Rev 2, bolts only/training/bolt_0.125in/IMG_20250902_134632356_HDR.jpg\n",
            "Processed and overwrote: Thread Checker Rev 2, bolts only/training/bolt_0.125in/IMG_20250902_134823523_HDR.jpg\n",
            "Processed and overwrote: Thread Checker Rev 2, bolts only/training/bolt_0.125in/IMG_20250902_134723002_HDR.jpg\n",
            "Processed and overwrote: Thread Checker Rev 2, bolts only/training/bolt_0.125in/IMG_20250902_134422977.jpg\n",
            "Processed and overwrote: Thread Checker Rev 2, bolts only/training/bolt_0.125in/IMG_20250827_200547202_HDR.jpg\n",
            "Processed and overwrote: Thread Checker Rev 2, bolts only/training/bolt_0.125in/IMG_20250902_134836384.jpg\n",
            "Processed and overwrote: Thread Checker Rev 2, bolts only/training/bolt_0.125in/IMG_20250902_134739203_HDR.jpg\n",
            "Processed and overwrote: Thread Checker Rev 2, bolts only/training/bolt_0.125in/IMG_20250827_200527057_HDR.jpg\n",
            "Processed and overwrote: Thread Checker Rev 2, bolts only/training/bolt_0.125in/IMG_20250902_134538204_HDR.jpg\n",
            "Processed and overwrote: Thread Checker Rev 2, bolts only/training/bolt_0.125in/IMG_20250902_134747796_HDR.jpg\n",
            "Processed and overwrote: Thread Checker Rev 2, bolts only/training/bolt_0.125in/IMG_20250902_134616519_HDR.jpg\n",
            "Processed and overwrote: Thread Checker Rev 2, bolts only/training/bolt_0.125in/IMG_20250902_134404207_HDR.jpg\n",
            "Processed and overwrote: Thread Checker Rev 2, bolts only/training/bolt_0.125in/IMG_20250902_134757061.jpg\n",
            "Processed and overwrote: Thread Checker Rev 2, bolts only/training/bolt_0.125in/IMG_20250827_200555951_HDR.jpg\n",
            "Processed and overwrote: Thread Checker Rev 2, bolts only/training/bolt_0.125in/IMG_20250827_200533516.jpg\n",
            "Processed and overwrote: Thread Checker Rev 2, bolts only/training/bolt_0.125in/IMG_20250902_134701857.jpg\n",
            "Processed and overwrote: Thread Checker Rev 2, bolts only/training/bolt_0.125in/IMG_20250827_200434285_HDR.jpg\n",
            "Processed and overwrote: Thread Checker Rev 2, bolts only/training/bolt_0.125in/IMG_20250902_134618999_HDR.jpg\n",
            "Processed and overwrote: Thread Checker Rev 2, bolts only/training/bolt_0.125in/IMG_20250827_200525281.jpg\n",
            "Processed and overwrote: Thread Checker Rev 2, bolts only/training/bolt_0.125in/IMG_20250902_134555590_HDR.jpg\n",
            "Processed and overwrote: Thread Checker Rev 2, bolts only/training/bolt_0.125in/IMG_20250827_200502967_HDR.jpg\n",
            "Processed and overwrote: Thread Checker Rev 2, bolts only/training/bolt_0.125in/IMG_20250902_134749148.jpg\n",
            "Processed and overwrote: Thread Checker Rev 2, bolts only/training/bolt_0.125in/IMG_20250902_134600927_HDR.jpg\n",
            "Processed and overwrote: Thread Checker Rev 2, bolts only/training/bolt_0.125in/IMG_20250827_132904237.jpg\n",
            "Processed and overwrote: Thread Checker Rev 2, bolts only/training/bolt_0.125in/IMG_20250902_134819150.jpg\n",
            "Processed and overwrote: Thread Checker Rev 2, bolts only/training/bolt_0.125in/IMG_20250902_134814767.jpg\n",
            "Processed and overwrote: Thread Checker Rev 2, bolts only/training/bolt_0.125in/IMG_20250827_132930081_HDR.jpg\n",
            "Processed and overwrote: Thread Checker Rev 2, bolts only/training/bolt_0.125in/IMG_20250902_134641888_HDR.jpg\n",
            "Processed and overwrote: Thread Checker Rev 2, bolts only/training/bolt_0.125in/IMG_20250902_134743489.jpg\n",
            "Processed and overwrote: Thread Checker Rev 2, bolts only/training/bolt_0.125in/IMG_20250902_134700487.jpg\n",
            "Processed and overwrote: Thread Checker Rev 2, bolts only/training/bolt_0.125in/IMG_20250902_134833480.jpg\n",
            "Processed and overwrote: Thread Checker Rev 2, bolts only/training/bolt_0.125in/IMG_20250902_134754844.jpg\n",
            "Processed and overwrote: Thread Checker Rev 2, bolts only/training/bolt_0.125in/IMG_20250902_134627927_HDR.jpg\n",
            "Processed and overwrote: Thread Checker Rev 2, bolts only/training/bolt_0.125in/IMG_20250902_134408128_HDR.jpg\n",
            "Processed and overwrote: Thread Checker Rev 2, bolts only/training/bolt_0.125in/IMG_20250902_134809800.jpg\n",
            "Processed and overwrote: Thread Checker Rev 2, bolts only/training/bolt_0.125in/IMG_20250902_134840001.jpg\n",
            "Processed and overwrote: Thread Checker Rev 2, bolts only/training/bolt_0.125in/IMG_20250827_200537947.jpg\n",
            "Processed and overwrote: Thread Checker Rev 2, bolts only/training/bolt_0.125in/IMG_20250902_134745811.jpg\n",
            "Processed and overwrote: Thread Checker Rev 2, bolts only/training/bolt_0.125in/IMG_20250902_134433698_HDR.jpg\n",
            "Processed and overwrote: Thread Checker Rev 2, bolts only/training/bolt_0.125in/IMG_20250902_134741358_HDR.jpg\n",
            "Processed and overwrote: Thread Checker Rev 2, bolts only/training/bolt_0.125in/IMG_20250902_134637260_HDR.jpg\n",
            "Processed and overwrote: Thread Checker Rev 2, bolts only/training/bolt_0.125in/IMG_20250902_134446314.jpg\n",
            "Processed and overwrote: Thread Checker Rev 2, bolts only/training/bolt_0.125in/IMG_20250827_200510516_HDR.jpg\n",
            "Processed and overwrote: Thread Checker Rev 2, bolts only/training/bolt_0.125in/IMG_20250902_134611009_HDR.jpg\n",
            "Processed and overwrote: Thread Checker Rev 2, bolts only/training/bolt_0.125in/IMG_20250902_134543828_HDR.jpg\n",
            "Processed and overwrote: Thread Checker Rev 2, bolts only/training/bolt_0.125in/IMG_20250902_134827848.jpg\n",
            "Processed and overwrote: Thread Checker Rev 2, bolts only/training/bolt_0.125in/IMG_20250827_200458051_HDR.jpg\n",
            "Processed and overwrote: Thread Checker Rev 2, bolts only/training/bolt_0.125in/IMG_20250902_134413913.jpg\n",
            "Processed and overwrote: Thread Checker Rev 2, bolts only/training/bolt_0.125in/IMG_20250902_134536387_HDR.jpg\n",
            "Processed and overwrote: Thread Checker Rev 2, bolts only/training/bolt_0.125in/IMG_20250902_134558296.jpg\n",
            "Processed and overwrote: Thread Checker Rev 2, bolts only/training/bolt_0.125in/IMG_20250902_134605778_HDR.jpg\n",
            "Processed and overwrote: Thread Checker Rev 2, bolts only/training/bolt_0.125in/IMG_20250827_132920792_HDR.jpg\n",
            "Processed and overwrote: Thread Checker Rev 2, bolts only/training/bolt_0.125in/IMG_20250827_200445833_HDR.jpg\n",
            "Processed and overwrote: Thread Checker Rev 2, bolts only/training/bolt_0.125in/IMG_20250902_134457194.jpg\n",
            "Processed and overwrote: Thread Checker Rev 2, bolts only/training/bolt_0.125in/IMG_20250827_200608239.jpg\n",
            "Processed and overwrote: Thread Checker Rev 2, bolts only/training/bolt_0.125in/IMG_20250902_134645263_HDR.jpg\n",
            "Processed and overwrote: Thread Checker Rev 2, bolts only/training/bolt_0.125in/IMG_20250902_134358569.jpg\n",
            "Processed and overwrote: Thread Checker Rev 2, bolts only/training/bolt_0.125in/IMG_20250902_134710780_HDR.jpg\n",
            "Processed and overwrote: Thread Checker Rev 2, bolts only/training/bolt_0.125in/IMG_20250902_134608140_HDR.jpg\n",
            "Processed and overwrote: Thread Checker Rev 2, bolts only/training/bolt_0.125in/IMG_20250902_134440709_HDR.jpg\n",
            "Processed and overwrote: Thread Checker Rev 2, bolts only/training/bolt_0.125in/IMG_20250902_134431009_HDR.jpg\n",
            "Processed and overwrote: Thread Checker Rev 2, bolts only/training/bolt_0.125in/IMG_20250827_132904600.jpg\n",
            "Processed and overwrote: Thread Checker Rev 2, bolts only/training/bolt_0.125in/IMG_20250902_134731628.jpg\n",
            "Processed and overwrote: Thread Checker Rev 2, bolts only/training/bolt_0.125in/IMG_20250827_200551234.jpg\n",
            "Processed and overwrote: Thread Checker Rev 2, bolts only/training/bolt_0.125in/IMG_20250827_200529749_HDR.jpg\n",
            "Processed and overwrote: Thread Checker Rev 2, bolts only/training/bolt_0.125in/IMG_20250902_134511095_HDR.jpg\n",
            "Processed and overwrote: Thread Checker Rev 2, bolts only/training/bolt_0.125in/IMG_20250902_134453592.jpg\n",
            "Processed and overwrote: Thread Checker Rev 2, bolts only/training/bolt_0.125in/IMG_20250827_132916969_HDR.jpg\n",
            "Processed and overwrote: Thread Checker Rev 2, bolts only/training/bolt_0.125in/IMG_20250902_134613774_HDR.jpg\n",
            "Processed and overwrote: Thread Checker Rev 2, bolts only/training/bolt_0.125in/IMG_20250902_134541014_HDR.jpg\n",
            "Processed and overwrote: Thread Checker Rev 2, bolts only/training/bolt_0.125in/IMG_20250902_134713152_HDR.jpg\n",
            "Processed and overwrote: Thread Checker Rev 2, bolts only/training/bolt_0.125in/IMG_20250902_134410658.jpg\n",
            "Processed and overwrote: Thread Checker Rev 2, bolts only/training/bolt_0.125in/IMG_20250902_134428429_HDR.jpg\n",
            "Processed and overwrote: Thread Checker Rev 2, bolts only/training/bolt_0.125in/IMG_20250902_134419831.jpg\n",
            "Processed and overwrote: Thread Checker Rev 2, bolts only/training/bolt_0.125in/IMG_20250902_134806399.jpg\n",
            "Processed and overwrote: Thread Checker Rev 2, bolts only/training/bolt_0.125in/IMG_20250902_134532393.jpg\n",
            "Processed and overwrote: Thread Checker Rev 2, bolts only/training/bolt_0.125in/IMG_20250902_134634752_HDR.jpg\n",
            "Processed and overwrote: Thread Checker Rev 2, bolts only/training/bolt_0.125in/IMG_20250902_134821030_HDR.jpg\n",
            "Processed and overwrote: Thread Checker Rev 2, bolts only/training/bolt_0.125in/IMG_20250902_134621506_HDR.jpg\n",
            "Processed and overwrote: Thread Checker Rev 2, bolts only/training/bolt_0.125in/IMG_20250827_132937354.jpg\n",
            "Processed and overwrote: Thread Checker Rev 2, bolts only/training/bolt_0.125in/IMG_20250827_200606025.jpg\n",
            "Processed and overwrote: Thread Checker Rev 2, bolts only/training/bolt_0.375in/IMG_20250902_132937080.jpg\n",
            "Processed and overwrote: Thread Checker Rev 2, bolts only/training/bolt_0.375in/IMG_20250827_133123332_HDR.jpg\n",
            "Processed and overwrote: Thread Checker Rev 2, bolts only/training/bolt_0.375in/IMG_20250827_201337476.jpg\n",
            "Processed and overwrote: Thread Checker Rev 2, bolts only/training/bolt_0.375in/IMG_20250902_133057128.jpg\n",
            "Processed and overwrote: Thread Checker Rev 2, bolts only/training/bolt_0.375in/IMG_20250902_133131049.jpg\n",
            "Processed and overwrote: Thread Checker Rev 2, bolts only/training/bolt_0.375in/IMG_20250827_201352651_HDR.jpg\n",
            "Processed and overwrote: Thread Checker Rev 2, bolts only/training/bolt_0.375in/IMG_20250902_133004061.jpg\n",
            "Processed and overwrote: Thread Checker Rev 2, bolts only/training/bolt_0.375in/IMG_20250902_132905490.jpg\n",
            "Processed and overwrote: Thread Checker Rev 2, bolts only/training/bolt_0.375in/IMG_20250902_133248323_HDR.jpg\n",
            "Processed and overwrote: Thread Checker Rev 2, bolts only/training/bolt_0.375in/IMG_20250902_133310576.jpg\n",
            "Processed and overwrote: Thread Checker Rev 2, bolts only/training/bolt_0.375in/IMG_20250827_201256885_HDR.jpg\n",
            "Processed and overwrote: Thread Checker Rev 2, bolts only/training/bolt_0.375in/IMG_20250902_133107125.jpg\n",
            "Processed and overwrote: Thread Checker Rev 2, bolts only/training/bolt_0.375in/IMG_20250902_133241130_HDR.jpg\n",
            "Processed and overwrote: Thread Checker Rev 2, bolts only/training/bolt_0.375in/IMG_20250827_201447749_HDR.jpg\n",
            "Processed and overwrote: Thread Checker Rev 2, bolts only/training/bolt_0.375in/IMG_20250902_133126824_HDR.jpg\n",
            "Processed and overwrote: Thread Checker Rev 2, bolts only/training/bolt_0.375in/IMG_20250827_201231090_HDR.jpg\n",
            "Processed and overwrote: Thread Checker Rev 2, bolts only/training/bolt_0.375in/IMG_20250827_133119954.jpg\n",
            "Processed and overwrote: Thread Checker Rev 2, bolts only/training/bolt_0.375in/IMG_20250902_133340693.jpg\n",
            "Processed and overwrote: Thread Checker Rev 2, bolts only/training/bolt_0.375in/IMG_20250827_133133233.jpg\n",
            "Processed and overwrote: Thread Checker Rev 2, bolts only/training/bolt_0.375in/IMG_20250902_132930543_HDR.jpg\n",
            "Processed and overwrote: Thread Checker Rev 2, bolts only/training/bolt_0.375in/IMG_20250902_133222743.jpg\n",
            "Processed and overwrote: Thread Checker Rev 2, bolts only/training/bolt_0.375in/IMG_20250902_133026319.jpg\n",
            "Processed and overwrote: Thread Checker Rev 2, bolts only/training/bolt_0.375in/IMG_20250827_201330002_HDR.jpg\n",
            "Processed and overwrote: Thread Checker Rev 2, bolts only/training/bolt_0.375in/IMG_20250902_132925300.jpg\n",
            "Processed and overwrote: Thread Checker Rev 2, bolts only/training/bolt_0.375in/IMG_20250827_201503323_HDR.jpg\n",
            "Processed and overwrote: Thread Checker Rev 2, bolts only/training/bolt_0.375in/IMG_20250902_133116229.jpg\n",
            "Processed and overwrote: Thread Checker Rev 2, bolts only/training/bolt_0.375in/IMG_20250827_201457497.jpg\n",
            "Processed and overwrote: Thread Checker Rev 2, bolts only/training/bolt_0.375in/IMG_20250827_201245825_HDR.jpg\n",
            "Processed and overwrote: Thread Checker Rev 2, bolts only/training/bolt_0.375in/IMG_20250902_133039843_HDR.jpg\n",
            "Processed and overwrote: Thread Checker Rev 2, bolts only/training/bolt_0.375in/IMG_20250902_132940461.jpg\n",
            "Processed and overwrote: Thread Checker Rev 2, bolts only/training/bolt_0.375in/IMG_20250902_132947390.jpg\n",
            "Processed and overwrote: Thread Checker Rev 2, bolts only/training/bolt_0.375in/IMG_20250827_201343830_HDR.jpg\n",
            "Processed and overwrote: Thread Checker Rev 2, bolts only/training/bolt_0.375in/IMG_20250902_133325792.jpg\n",
            "Processed and overwrote: Thread Checker Rev 2, bolts only/training/bolt_0.375in/IMG_20250902_133023471.jpg\n",
            "Processed and overwrote: Thread Checker Rev 2, bolts only/training/bolt_0.375in/IMG_20250902_133017556_HDR.jpg\n",
            "Processed and overwrote: Thread Checker Rev 2, bolts only/training/bolt_0.375in/IMG_20250827_201452079_HDR.jpg\n",
            "Processed and overwrote: Thread Checker Rev 2, bolts only/training/bolt_0.375in/IMG_20250902_133113272.jpg\n",
            "Processed and overwrote: Thread Checker Rev 2, bolts only/training/bolt_0.375in/IMG_20250902_133350055.jpg\n",
            "Processed and overwrote: Thread Checker Rev 2, bolts only/training/bolt_0.375in/IMG_20250827_201331943_HDR.jpg\n",
            "Processed and overwrote: Thread Checker Rev 2, bolts only/training/bolt_0.375in/IMG_20250902_132900791_HDR.jpg\n",
            "Processed and overwrote: Thread Checker Rev 2, bolts only/training/bolt_0.375in/IMG_20250902_133232182_HDR.jpg\n",
            "Processed and overwrote: Thread Checker Rev 2, bolts only/training/bolt_0.375in/IMG_20250902_133045219_HDR.jpg\n",
            "Processed and overwrote: Thread Checker Rev 2, bolts only/training/bolt_0.375in/IMG_20250902_133328586.jpg\n",
            "Processed and overwrote: Thread Checker Rev 2, bolts only/training/bolt_0.375in/IMG_20250902_133237328_HDR.jpg\n",
            "Processed and overwrote: Thread Checker Rev 2, bolts only/training/bolt_0.375in/IMG_20250902_133007577_HDR.jpg\n",
            "Processed and overwrote: Thread Checker Rev 2, bolts only/training/bolt_0.375in/IMG_20250827_201310217_HDR.jpg\n",
            "Processed and overwrote: Thread Checker Rev 2, bolts only/training/bolt_0.375in/IMG_20250902_133042451_HDR.jpg\n",
            "Processed and overwrote: Thread Checker Rev 2, bolts only/training/bolt_0.375in/IMG_20250902_133219393.jpg\n",
            "Processed and overwrote: Thread Checker Rev 2, bolts only/training/bolt_0.375in/IMG_20250902_133120977.jpg\n",
            "Processed and overwrote: Thread Checker Rev 2, bolts only/training/bolt_0.375in/IMG_20250902_133347360.jpg\n",
            "Processed and overwrote: Thread Checker Rev 2, bolts only/training/bolt_0.375in/IMG_20250902_133300669_HDR.jpg\n",
            "Processed and overwrote: Thread Checker Rev 2, bolts only/training/bolt_0.375in/IMG_20250902_132908407.jpg\n",
            "Processed and overwrote: Thread Checker Rev 2, bolts only/training/bolt_0.375in/IMG_20250827_201229187_HDR.jpg\n",
            "Processed and overwrote: Thread Checker Rev 2, bolts only/training/bolt_0.375in/IMG_20250827_201354895_HDR.jpg\n",
            "Processed and overwrote: Thread Checker Rev 2, bolts only/training/bolt_0.375in/IMG_20250902_133318677.jpg\n",
            "Processed and overwrote: Thread Checker Rev 2, bolts only/training/bolt_0.375in/IMG_20250902_132827373_HDR.jpg\n",
            "Processed and overwrote: Thread Checker Rev 2, bolts only/training/bolt_0.375in/IMG_20250902_133254389.jpg\n",
            "Processed and overwrote: Thread Checker Rev 2, bolts only/training/bolt_0.375in/IMG_20250902_133344508.jpg\n",
            "Processed and overwrote: Thread Checker Rev 2, bolts only/training/bolt_0.375in/IMG_20250827_201320379.jpg\n",
            "Processed and overwrote: Thread Checker Rev 2, bolts only/training/bolt_0.375in/IMG_20250902_133020449_HDR.jpg\n",
            "Processed and overwrote: Thread Checker Rev 2, bolts only/training/bolt_0.375in/IMG_20250902_133100856_HDR.jpg\n",
            "Processed and overwrote: Thread Checker Rev 2, bolts only/training/bolt_0.375in/IMG_20250902_133000899.jpg\n",
            "Processed and overwrote: Thread Checker Rev 2, bolts only/training/bolt_0.375in/IMG_20250902_133313164_HDR.jpg\n",
            "Processed and overwrote: Thread Checker Rev 2, bolts only/training/bolt_0.375in/IMG_20250902_132950393_HDR.jpg\n",
            "Processed and overwrote: Thread Checker Rev 2, bolts only/training/bolt_0.375in/IMG_20250827_201454991_HDR.jpg\n",
            "Processed and overwrote: Thread Checker Rev 2, bolts only/training/bolt_0.375in/IMG_20250902_133034352.jpg\n",
            "Processed and overwrote: Thread Checker Rev 2, bolts only/training/bolt_0.375in/IMG_20250827_201445054_HDR.jpg\n",
            "Processed and overwrote: Thread Checker Rev 2, bolts only/training/bolt_0.375in/IMG_20250827_201251951_HDR.jpg\n",
            "Processed and overwrote: Thread Checker Rev 2, bolts only/training/bolt_0.375in/IMG_20250902_133037200_HDR.jpg\n",
            "Processed and overwrote: Thread Checker Rev 2, bolts only/training/bolt_0.375in/IMG_20250827_201318897_HDR.jpg\n",
            "Processed and overwrote: Thread Checker Rev 2, bolts only/training/bolt_0.375in/IMG_20250902_132921127.jpg\n",
            "Processed and overwrote: Thread Checker Rev 2, bolts only/training/bolt_0.375in/IMG_20250902_133134330.jpg\n",
            "Processed and overwrote: Thread Checker Rev 2, bolts only/training/bolt_0.375in/IMG_20250827_201232995.jpg\n",
            "Processed and overwrote: Thread Checker Rev 2, bolts only/training/bolt_0.375in/IMG_20250827_201317810_HDR.jpg\n",
            "Processed and overwrote: Thread Checker Rev 2, bolts only/training/bolt_0.375in/IMG_20250902_133336766.jpg\n",
            "Processed and overwrote: Thread Checker Rev 2, bolts only/training/bolt_0.375in/IMG_20250827_201306192_HDR.jpg\n",
            "Processed and overwrote: Thread Checker Rev 2, bolts only/training/bolt_0.375in/IMG_20250902_132933976_HDR.jpg\n",
            "Processed and overwrote: Thread Checker Rev 2, bolts only/training/bolt_0.375in/IMG_20250902_132953485.jpg\n",
            "Processed and overwrote: Thread Checker Rev 2, bolts only/training/bolt_0.375in/IMG_20250902_133047731.jpg\n",
            "Processed and overwrote: Thread Checker Rev 2, bolts only/training/bolt_0.375in/IMG_20250827_201441906_HDR.jpg\n",
            "Processed and overwrote: Thread Checker Rev 2, bolts only/training/bolt_0.375in/IMG_20250902_132838584.jpg\n",
            "Processed and overwrote: Thread Checker Rev 2, bolts only/training/bolt_0.375in/IMG_20250827_201328257_HDR.jpg\n",
            "Processed and overwrote: Thread Checker Rev 2, bolts only/training/bolt_0.375in/IMG_20250902_133251462_HDR.jpg\n",
            "Processed and overwrote: Thread Checker Rev 2, bolts only/training/bolt_0.375in/IMG_20250827_201326576.jpg\n",
            "Processed and overwrote: Thread Checker Rev 2, bolts only/training/bolt_0.375in/IMG_20250902_133257072_HDR.jpg\n",
            "Processed and overwrote: Thread Checker Rev 2, bolts only/training/bolt_0.375in/IMG_20250902_132944570.jpg\n",
            "Processed and overwrote: Thread Checker Rev 2, bolts only/training/bolt_0.375in/IMG_20250902_133303894.jpg\n",
            "Processed and overwrote: Thread Checker Rev 2, bolts only/training/bolt_0.375in/IMG_20250902_132917519.jpg\n",
            "Processed and overwrote: Thread Checker Rev 2, bolts only/training/bolt_0.375in/IMG_20250827_201243755_HDR.jpg\n",
            "Processed and overwrote: Thread Checker Rev 2, bolts only/training/bolt_0.375in/IMG_20250902_133315701.jpg\n",
            "Processed and overwrote: Thread Checker Rev 2, bolts only/training/bolt_0.375in/IMG_20250902_133029031.jpg\n",
            "Processed and overwrote: Thread Checker Rev 2, bolts only/training/bolt_0.375in/IMG_20250827_201312708_HDR.jpg\n",
            "Processed and overwrote: Thread Checker Rev 2, bolts only/training/bolt_0.375in/IMG_20250902_133014401_HDR.jpg\n",
            "Processed and overwrote: Thread Checker Rev 2, bolts only/training/bolt_0.375in/IMG_20250827_133127465.jpg\n",
            "Processed and overwrote: Thread Checker Rev 2, bolts only/training/bolt_0.375in/IMG_20250827_201505295_HDR.jpg\n",
            "Processed and overwrote: Thread Checker Rev 2, bolts only/training/bolt_0.375in/IMG_20250902_133334012.jpg\n",
            "Processed and overwrote: Thread Checker Rev 2, bolts only/training/bolt_0.375in/IMG_20250827_201333934_HDR.jpg\n",
            "Processed and overwrote: Thread Checker Rev 2, bolts only/training/bolt_0.375in/IMG_20250902_132914612.jpg\n",
            "Processed and overwrote: Thread Checker Rev 2, bolts only/training/bolt_0.375in/IMG_20250902_133156980.jpg\n",
            "Processed and overwrote: Thread Checker Rev 2, bolts only/training/bolt_0.375in/IMG_20250902_133104224.jpg\n",
            "Processed and overwrote: Thread Checker Rev 2, bolts only/training/bolt_0.375in/IMG_20250902_133110716.jpg\n",
            "Processed and overwrote: Thread Checker Rev 2, bolts only/training/bolt_0.375in/IMG_20250902_132955802_HDR.jpg\n",
            "Processed and overwrote: Thread Checker Rev 2, bolts only/training/bolt_0.375in/IMG_20250827_133135993.jpg\n",
            "Processed and overwrote: Thread Checker Rev 2, bolts only/training/bolt_0.375in/IMG_20250827_133140184.jpg\n",
            "Processed and overwrote: Thread Checker Rev 2, bolts only/training/bolt_0.375in/IMG_20250902_133322439.jpg\n",
            "Processed and overwrote: Thread Checker Rev 2, bolts only/training/bolt_0.375in/IMG_20250902_133244269.jpg\n",
            "Processed and overwrote: Thread Checker Rev 2, bolts only/training/bolt_0.375in/IMG_20250902_133331371.jpg\n",
            "Processed and overwrote: Thread Checker Rev 2, bolts only/training/bolt_0.375in/IMG_20250902_133010765_HDR.jpg\n",
            "Processed and overwrote: Thread Checker Rev 2, bolts only/training/bolt_0.375in/IMG_20250827_201238096_HDR.jpg\n",
            "Processed and overwrote: Thread Checker Rev 2, bolts only/training/bolt_0.375in/IMG_20250902_133226559.jpg\n",
            "Processed and overwrote: Thread Checker Rev 2, bolts only/training/bolt_0.375in/IMG_20250902_132911453.jpg\n",
            "Processed and overwrote: Thread Checker Rev 2, bolts only/training/bolt_0.375in/IMG_20250827_201234975_HDR.jpg\n",
            "Processed and overwrote: Thread Checker Rev 2, bolts only/training/bolt_0.375in/IMG_20250902_132844766.jpg\n",
            "Processed and overwrote: Thread Checker Rev 2, bolts only/training/bolt_0.375in/IMG_20250827_201346705_HDR.jpg\n",
            "Processed and overwrote: Thread Checker Rev 2, bolts only/training/bolt_0.375in/IMG_20250827_201350950_HDR.jpg\n",
            "Processed and overwrote: Thread Checker Rev 2, bolts only/training/bolt_0.375in/IMG_20250902_133031884.jpg\n",
            "Processed and overwrote: Thread Checker Rev 2, bolts only/training/bolt_0.375in/IMG_20250902_133307140.jpg\n",
            "Processed and overwrote: Thread Checker Rev 2, bolts only/training/bolt_0.375in/IMG_20250902_133124248.jpg\n",
            "Processed and overwrote: Thread Checker Rev 2, bolts only/training/bolt_0.25in/IMG_20250827_200736355.jpg\n",
            "Processed and overwrote: Thread Checker Rev 2, bolts only/training/bolt_0.25in/IMG_20250902_133829376.jpg\n",
            "Processed and overwrote: Thread Checker Rev 2, bolts only/training/bolt_0.25in/IMG_20250827_200858515_HDR.jpg\n",
            "Processed and overwrote: Thread Checker Rev 2, bolts only/training/bolt_0.25in/IMG_20250827_200745712.jpg\n",
            "Processed and overwrote: Thread Checker Rev 2, bolts only/training/bolt_0.25in/IMG_20250902_133737106_HDR.jpg\n",
            "Processed and overwrote: Thread Checker Rev 2, bolts only/training/bolt_0.25in/IMG_20250827_200903665_HDR.jpg\n",
            "Processed and overwrote: Thread Checker Rev 2, bolts only/training/bolt_0.25in/IMG_20250902_134139445.jpg\n",
            "Processed and overwrote: Thread Checker Rev 2, bolts only/training/bolt_0.25in/IMG_20250827_200826110.jpg\n",
            "Processed and overwrote: Thread Checker Rev 2, bolts only/training/bolt_0.25in/IMG_20250902_134043904.jpg\n",
            "Processed and overwrote: Thread Checker Rev 2, bolts only/training/bolt_0.25in/IMG_20250902_133958540.jpg\n",
            "Processed and overwrote: Thread Checker Rev 2, bolts only/training/bolt_0.25in/IMG_20250827_200832629_HDR.jpg\n",
            "Processed and overwrote: Thread Checker Rev 2, bolts only/training/bolt_0.25in/IMG_20250902_134036487.jpg\n",
            "Processed and overwrote: Thread Checker Rev 2, bolts only/training/bolt_0.25in/IMG_20250902_133723197.jpg\n",
            "Processed and overwrote: Thread Checker Rev 2, bolts only/training/bolt_0.25in/IMG_20250902_133821872_HDR.jpg\n",
            "Processed and overwrote: Thread Checker Rev 2, bolts only/training/bolt_0.25in/IMG_20250902_134055916.jpg\n",
            "Processed and overwrote: Thread Checker Rev 2, bolts only/training/bolt_0.25in/IMG_20250902_134116490.jpg\n",
            "Processed and overwrote: Thread Checker Rev 2, bolts only/training/bolt_0.25in/IMG_20250827_200830959_HDR.jpg\n",
            "Processed and overwrote: Thread Checker Rev 2, bolts only/training/bolt_0.25in/IMG_20250902_134046749.jpg\n",
            "Processed and overwrote: Thread Checker Rev 2, bolts only/training/bolt_0.25in/IMG_20250827_133032145_HDR.jpg\n",
            "Processed and overwrote: Thread Checker Rev 2, bolts only/training/bolt_0.25in/IMG_20250902_133730107.jpg\n",
            "Processed and overwrote: Thread Checker Rev 2, bolts only/training/bolt_0.25in/IMG_20250902_133804576_HDR.jpg\n",
            "Processed and overwrote: Thread Checker Rev 2, bolts only/training/bolt_0.25in/IMG_20250902_133941127.jpg\n",
            "Processed and overwrote: Thread Checker Rev 2, bolts only/training/bolt_0.25in/IMG_20250827_200840103_HDR.jpg\n",
            "Processed and overwrote: Thread Checker Rev 2, bolts only/training/bolt_0.25in/IMG_20250827_200851794_HDR.jpg\n",
            "Processed and overwrote: Thread Checker Rev 2, bolts only/training/bolt_0.25in/IMG_20250902_134146297_HDR.jpg\n",
            "Processed and overwrote: Thread Checker Rev 2, bolts only/training/bolt_0.25in/IMG_20250902_134019129.jpg\n",
            "Processed and overwrote: Thread Checker Rev 2, bolts only/training/bolt_0.25in/IMG_20250902_133751417.jpg\n",
            "Processed and overwrote: Thread Checker Rev 2, bolts only/training/bolt_0.25in/IMG_20250902_133728437_HDR.jpg\n",
            "Processed and overwrote: Thread Checker Rev 2, bolts only/training/bolt_0.25in/IMG_20250827_200854335_HDR.jpg\n",
            "Processed and overwrote: Thread Checker Rev 2, bolts only/training/bolt_0.25in/IMG_20250902_133842072_HDR.jpg\n",
            "Processed and overwrote: Thread Checker Rev 2, bolts only/training/bolt_0.25in/IMG_20250902_134030814.jpg\n",
            "Processed and overwrote: Thread Checker Rev 2, bolts only/training/bolt_0.25in/IMG_20250902_134034048.jpg\n",
            "Processed and overwrote: Thread Checker Rev 2, bolts only/training/bolt_0.25in/IMG_20250902_133801238_HDR.jpg\n",
            "Processed and overwrote: Thread Checker Rev 2, bolts only/training/bolt_0.25in/IMG_20250902_133717751.jpg\n",
            "Processed and overwrote: Thread Checker Rev 2, bolts only/training/bolt_0.25in/IMG_20250902_134111877.jpg\n",
            "Processed and overwrote: Thread Checker Rev 2, bolts only/training/bolt_0.25in/IMG_20250827_200732774_HDR.jpg\n",
            "Processed and overwrote: Thread Checker Rev 2, bolts only/training/bolt_0.25in/IMG_20250902_134052399.jpg\n",
            "Processed and overwrote: Thread Checker Rev 2, bolts only/training/bolt_0.25in/IMG_20250902_134130194.jpg\n",
            "Processed and overwrote: Thread Checker Rev 2, bolts only/training/bolt_0.25in/IMG_20250902_134015523.jpg\n",
            "Processed and overwrote: Thread Checker Rev 2, bolts only/training/bolt_0.25in/IMG_20250827_133051583.jpg\n",
            "Processed and overwrote: Thread Checker Rev 2, bolts only/training/bolt_0.25in/IMG_20250827_200836655_HDR.jpg\n",
            "Processed and overwrote: Thread Checker Rev 2, bolts only/training/bolt_0.25in/IMG_20250827_200841487_HDR.jpg\n",
            "Processed and overwrote: Thread Checker Rev 2, bolts only/training/bolt_0.25in/IMG_20250902_133739835_HDR.jpg\n",
            "Processed and overwrote: Thread Checker Rev 2, bolts only/training/bolt_0.25in/IMG_20250902_133825682_HDR.jpg\n",
            "Processed and overwrote: Thread Checker Rev 2, bolts only/training/bolt_0.25in/IMG_20250902_134049381.jpg\n",
            "Processed and overwrote: Thread Checker Rev 2, bolts only/training/bolt_0.25in/IMG_20250902_133734104_HDR.jpg\n",
            "Processed and overwrote: Thread Checker Rev 2, bolts only/training/bolt_0.25in/IMG_20250902_134108842.jpg\n",
            "Processed and overwrote: Thread Checker Rev 2, bolts only/training/bolt_0.25in/IMG_20250902_134041391.jpg\n",
            "Processed and overwrote: Thread Checker Rev 2, bolts only/training/bolt_0.25in/IMG_20250902_133832192_HDR.jpg\n",
            "Processed and overwrote: Thread Checker Rev 2, bolts only/training/bolt_0.25in/IMG_20250902_134121357.jpg\n",
            "Processed and overwrote: Thread Checker Rev 2, bolts only/training/bolt_0.25in/IMG_20250827_200728970.jpg\n",
            "Processed and overwrote: Thread Checker Rev 2, bolts only/training/bolt_0.25in/IMG_20250902_133656296_HDR.jpg\n",
            "Processed and overwrote: Thread Checker Rev 2, bolts only/training/bolt_0.25in/IMG_20250827_133044166_HDR.jpg\n",
            "Processed and overwrote: Thread Checker Rev 2, bolts only/training/bolt_0.25in/IMG_20250902_133708898_HDR.jpg\n",
            "Processed and overwrote: Thread Checker Rev 2, bolts only/training/bolt_0.25in/IMG_20250902_133757991_HDR.jpg\n",
            "Processed and overwrote: Thread Checker Rev 2, bolts only/training/bolt_0.25in/IMG_20250902_134141767.jpg\n",
            "Processed and overwrote: Thread Checker Rev 2, bolts only/training/bolt_0.25in/IMG_20250827_200904940_HDR.jpg\n",
            "Processed and overwrote: Thread Checker Rev 2, bolts only/training/bolt_0.25in/IMG_20250902_133703929.jpg\n",
            "Processed and overwrote: Thread Checker Rev 2, bolts only/training/bolt_0.25in/IMG_20250827_200828819_HDR.jpg\n",
            "Processed and overwrote: Thread Checker Rev 2, bolts only/training/bolt_0.25in/IMG_20250902_133705975_HDR.jpg\n",
            "Processed and overwrote: Thread Checker Rev 2, bolts only/training/bolt_0.25in/IMG_20250902_134132572.jpg\n",
            "Processed and overwrote: Thread Checker Rev 2, bolts only/training/bolt_0.25in/IMG_20250902_134144069.jpg\n",
            "Processed and overwrote: Thread Checker Rev 2, bolts only/training/bolt_0.25in/IMG_20250827_200756747_HDR.jpg\n",
            "Processed and overwrote: Thread Checker Rev 2, bolts only/training/bolt_0.25in/IMG_20250902_134148426.jpg\n",
            "Processed and overwrote: Thread Checker Rev 2, bolts only/training/bolt_0.25in/IMG_20250827_200801887_HDR.jpg\n",
            "Processed and overwrote: Thread Checker Rev 2, bolts only/training/bolt_0.25in/IMG_20250902_134126164.jpg\n",
            "Processed and overwrote: Thread Checker Rev 2, bolts only/training/bolt_0.25in/IMG_20250827_133023069.jpg\n",
            "Processed and overwrote: Thread Checker Rev 2, bolts only/training/bolt_0.25in/IMG_20250902_134101164.jpg\n",
            "Processed and overwrote: Thread Checker Rev 2, bolts only/training/bolt_0.25in/IMG_20250827_200753480_HDR.jpg\n",
            "Processed and overwrote: Thread Checker Rev 2, bolts only/training/bolt_0.25in/IMG_20250827_200834412.jpg\n",
            "Processed and overwrote: Thread Checker Rev 2, bolts only/training/bolt_0.25in/IMG_20250827_200846053_HDR.jpg\n",
            "Processed and overwrote: Thread Checker Rev 2, bolts only/training/bolt_0.25in/IMG_20250902_134058437.jpg\n",
            "Processed and overwrote: Thread Checker Rev 2, bolts only/training/bolt_0.25in/IMG_20250827_133038244_HDR.jpg\n",
            "Processed and overwrote: Thread Checker Rev 2, bolts only/training/bolt_0.25in/IMG_20250902_134103648.jpg\n",
            "Processed and overwrote: Thread Checker Rev 2, bolts only/training/bolt_0.25in/IMG_20250902_134134966_HDR.jpg\n",
            "Processed and overwrote: Thread Checker Rev 2, bolts only/training/bolt_0.25in/IMG_20250902_134011673.jpg\n",
            "Processed and overwrote: Thread Checker Rev 2, bolts only/training/bolt_0.25in/IMG_20250902_133807372_HDR.jpg\n",
            "Processed and overwrote: Thread Checker Rev 2, bolts only/training/bolt_0.25in/IMG_20250827_200739045.jpg\n",
            "Processed and overwrote: Thread Checker Rev 2, bolts only/training/bolt_0.25in/IMG_20250902_133720802_HDR.jpg\n",
            "Processed and overwrote: Thread Checker Rev 2, bolts only/training/bolt_0.25in/IMG_20250902_133838274_HDR.jpg\n",
            "Processed and overwrote: Thread Checker Rev 2, bolts only/training/bolt_0.25in/IMG_20250902_133701758.jpg\n",
            "Processed and overwrote: Thread Checker Rev 2, bolts only/training/bolt_0.25in/IMG_20250902_133951168.jpg\n",
            "Processed and overwrote: Thread Checker Rev 2, bolts only/training/bolt_0.25in/IMG_20250902_134039105.jpg\n",
            "Processed and overwrote: Thread Checker Rev 2, bolts only/training/bolt_0.25in/IMG_20250827_200803562_HDR.jpg\n",
            "Processed and overwrote: Thread Checker Rev 2, bolts only/training/bolt_0.25in/IMG_20250902_133745432_HDR.jpg\n",
            "Processed and overwrote: Thread Checker Rev 2, bolts only/training/bolt_0.25in/IMG_20250902_133937487.jpg\n",
            "Processed and overwrote: Thread Checker Rev 2, bolts only/training/bolt_0.25in/IMG_20250902_134118814_HDR.jpg\n",
            "Processed and overwrote: Thread Checker Rev 2, bolts only/training/bolt_0.25in/IMG_20250827_200747556_HDR.jpg\n",
            "Processed and overwrote: Thread Checker Rev 2, bolts only/training/bolt_0.25in/IMG_20250902_134114542.jpg\n",
            "Processed and overwrote: Thread Checker Rev 2, bolts only/training/bolt_0.25in/IMG_20250902_133731288.jpg\n",
            "Processed and overwrote: Thread Checker Rev 2, bolts only/training/bolt_0.25in/IMG_20250902_133818855_HDR.jpg\n",
            "Processed and overwrote: Thread Checker Rev 2, bolts only/training/bolt_0.25in/IMG_20250827_200740950.jpg\n",
            "Processed and overwrote: Thread Checker Rev 2, bolts only/training/bolt_0.25in/IMG_20250902_133659360.jpg\n",
            "Processed and overwrote: Thread Checker Rev 2, bolts only/training/bolt_0.25in/IMG_20250902_133955115.jpg\n",
            "Processed and overwrote: Thread Checker Rev 2, bolts only/training/bolt_0.25in/IMG_20250902_134123545.jpg\n",
            "Processed and overwrote: Thread Checker Rev 2, bolts only/training/bolt_0.25in/IMG_20250827_200843287.jpg\n",
            "Processed and overwrote: Thread Checker Rev 2, bolts only/training/bolt_0.25in/IMG_20250827_200908409_HDR.jpg\n",
            "Processed and overwrote: Thread Checker Rev 2, bolts only/training/bolt_0.25in/IMG_20250902_133755106.jpg\n",
            "Processed and overwrote: Thread Checker Rev 2, bolts only/training/bolt_0.25in/IMG_20250902_133943369.jpg\n",
            "Processed and overwrote: Thread Checker Rev 2, bolts only/training/bolt_0.25in/IMG_20250902_133947746.jpg\n",
            "Processed and overwrote: Thread Checker Rev 2, bolts only/training/bolt_0.25in/IMG_20250902_134026868.jpg\n",
            "Processed and overwrote: Thread Checker Rev 2, bolts only/training/bolt_0.25in/IMG_20250902_133742796_HDR.jpg\n",
            "Processed and overwrote: Thread Checker Rev 2, bolts only/training/bolt_0.25in/IMG_20250827_200734834_HDR.jpg\n",
            "Processed and overwrote: Thread Checker Rev 2, bolts only/training/bolt_0.25in/IMG_20250902_133713768_HDR.jpg\n",
            "Processed and overwrote: Thread Checker Rev 2, bolts only/training/bolt_0.25in/IMG_20250902_134106317.jpg\n",
            "Processed and overwrote: Thread Checker Rev 2, bolts only/training/bolt_0.25in/IMG_20250902_134053639.jpg\n",
            "Processed and overwrote: Thread Checker Rev 2, bolts only/training/bolt_0.25in/IMG_20250902_133725511.jpg\n",
            "Processed and overwrote: Thread Checker Rev 2, bolts only/training/bolt_0.25in/IMG_20250827_200823361_HDR.jpg\n",
            "Processed and overwrote: Thread Checker Rev 2, bolts only/training/bolt_0.25in/IMG_20250902_134004267.jpg\n",
            "Processed and overwrote: Thread Checker Rev 2, bolts only/training/bolt_0.25in/IMG_20250902_133835068.jpg\n",
            "Processed and overwrote: Thread Checker Rev 2, bolts only/training/bolt_0.25in/IMG_20250902_133747321_HDR.jpg\n",
            "\n",
            "Processing complete for all images in the directory tree.\n"
          ]
        }
      ],
      "source": [
        "#Preprocessing bounding box model training\n",
        "#find a bolt dataset\n",
        "#train a model to make bounding boxes, and save model, may need to be seperate\n",
        "#Apply the bounding boxes to each training photo and resave them\n",
        "#continue as normal\n",
        "\n",
        "#Easy solution first\n",
        "import os\n",
        "from PIL import Image\n",
        "\n",
        "def crop_to_center_square(image_path, target_size=224):\n",
        "    \"\"\"\n",
        "    Crops an image to its largest possible central square, then resizes it\n",
        "    to a target square dimension, overwriting the original file.\n",
        "\n",
        "    Args:\n",
        "        image_path (str): Path to the image file to be processed.\n",
        "        target_size (int): The final desired square dimension (e.g., 224).\n",
        "    \"\"\"\n",
        "    try:\n",
        "        img = Image.open(image_path).convert('RGB')\n",
        "    except Exception as e:\n",
        "        print(f\"Error opening image {image_path}: {e}\")\n",
        "        return\n",
        "\n",
        "    width, height = img.size\n",
        "    shortest_side = min(width, height)\n",
        "\n",
        "    left = (width - shortest_side) / 2\n",
        "    top = (height - shortest_side) / 2\n",
        "    right = (width + shortest_side) / 2\n",
        "    bottom = (height + shortest_side) / 2\n",
        "\n",
        "    img_cropped = img.crop((left, top, right, bottom))\n",
        "    img_resized = img_cropped.resize((target_size, target_size), Image.LANCZOS)\n",
        "\n",
        "    # Overwrite the original file\n",
        "    img_resized.save(image_path)\n",
        "    print(f\"Processed and overwrote: {image_path}\")\n",
        "\n",
        "def process_directory_tree(root_directory):\n",
        "    \"\"\"\n",
        "    Traverses a directory tree and processes all image files within it.\n",
        "\n",
        "    Args:\n",
        "        root_directory (str): The path to the root directory (e.g., 'training').\n",
        "    \"\"\"\n",
        "    if not os.path.isdir(root_directory):\n",
        "        print(f\"Error: Directory not found at {root_directory}\")\n",
        "        return\n",
        "\n",
        "    print(f\"Starting to process images in directory tree: {root_directory}\")\n",
        "\n",
        "    # os.walk() generates the filenames in a directory tree\n",
        "    for dirpath, dirnames, filenames in os.walk(root_directory):\n",
        "        for filename in filenames:\n",
        "            file_path = os.path.join(dirpath, filename)\n",
        "\n",
        "            # Check if the file is an image\n",
        "            if filename.lower().endswith(('.png', '.jpg', '.jpeg')):\n",
        "                crop_to_center_square(file_path)\n",
        "\n",
        "    print(\"\\nProcessing complete for all images in the directory tree.\")\n",
        "\n",
        "# --- Example Usage ---\n",
        "# Point the function to your main training folder\n",
        "root_training_folder = TRAIN_DIR\n",
        "process_directory_tree(root_training_folder)"
      ]
    },
    {
      "cell_type": "code",
      "execution_count": 4,
      "metadata": {
        "id": "ltDnYzYW6vV3",
        "colab": {
          "base_uri": "https://localhost:8080/",
          "height": 139
        },
        "outputId": "7046fcf9-d312-479c-c0ec-c4508cb84e69"
      },
      "outputs": [
        {
          "output_type": "stream",
          "name": "stdout",
          "text": [
            "Found 348 files belonging to 3 classes.\n",
            "Using 279 files for training.\n",
            "Found 348 files belonging to 3 classes.\n",
            "Using 69 files for validation.\n",
            "Found the following classes: ['bolt_0.125in', 'bolt_0.25in', 'bolt_0.375in']\n"
          ]
        },
        {
          "output_type": "execute_result",
          "data": {
            "text/plain": [
              "'\\nplt.figure(figsize=(10, 10))\\nfor images, labels in train_ds.take(1):\\n  for i in range(9):\\n    ax = plt.subplot(3, 3, i + 1)\\n\\n    # Use the label directly as the index\\n    label_index = labels[i]\\n\\n    plt.imshow(images[i].numpy().astype(\"uint8\"))\\n    plt.title(class_names[label_index])\\n    plt.axis(\"off\")\\nplt.show()\\n'"
            ],
            "application/vnd.google.colaboratory.intrinsic+json": {
              "type": "string"
            }
          },
          "metadata": {},
          "execution_count": 4
        }
      ],
      "source": [
        "#dataset import and creation\n",
        "#may need some scaling or bounding box depending on accuracy\n",
        "train_ds = tf.keras.utils.image_dataset_from_directory(\n",
        "  TRAIN_DIR,\n",
        "  validation_split=VALIDATION_SPLIT,\n",
        "  subset=\"training\",\n",
        "  seed=123,  # The seed ensures the random split is the same every time\n",
        "  image_size=(IMG_HEIGHT, IMG_WIDTH),\n",
        "  batch_size=BATCH_SIZE,\n",
        "  label_mode='categorical') # Add this line to get one-hot encoded labels\n",
        "\n",
        "# We create the validation set from the remaining 20%\n",
        "val_ds = tf.keras.utils.image_dataset_from_directory(\n",
        "  TRAIN_DIR,\n",
        "  validation_split=VALIDATION_SPLIT,\n",
        "  subset=\"validation\",\n",
        "  seed=123, # Using the same seed is crucial to prevent overlap\n",
        "  image_size=(IMG_HEIGHT, IMG_WIDTH),\n",
        "  batch_size=BATCH_SIZE,\n",
        "  label_mode='categorical') # Add this line to get one-hot encoded labels\n",
        "\n",
        "\n",
        "# Get the class names from the folder structure\n",
        "class_names = train_ds.class_names\n",
        "num_classes = len(class_names)\n",
        "print(\"Found the following classes:\", class_names)\n",
        "\n",
        "\"\"\"\n",
        "plt.figure(figsize=(10, 10))\n",
        "for images, labels in train_ds.take(1):\n",
        "  for i in range(9):\n",
        "    ax = plt.subplot(3, 3, i + 1)\n",
        "\n",
        "    # Use the label directly as the index\n",
        "    label_index = labels[i]\n",
        "\n",
        "    plt.imshow(images[i].numpy().astype(\"uint8\"))\n",
        "    plt.title(class_names[label_index])\n",
        "    plt.axis(\"off\")\n",
        "plt.show()\n",
        "\"\"\""
      ]
    },
    {
      "cell_type": "code",
      "execution_count": 5,
      "metadata": {
        "id": "h7ycDHak9fiD",
        "colab": {
          "base_uri": "https://localhost:8080/"
        },
        "outputId": "2c8a0400-f760-4ac5-90c7-6c5cbfa7cf40"
      },
      "outputs": [
        {
          "output_type": "stream",
          "name": "stdout",
          "text": [
            "\n",
            "Datasets are loaded, prepared, and ready for training.\n"
          ]
        }
      ],
      "source": [
        "# --- 3. CONFIGURE DATASETS FOR PERFORMANCE ---\n",
        "# These steps optimize the data pipeline for speed during training.\n",
        "AUTOTUNE = tf.data.AUTOTUNE\n",
        "train_ds = train_ds.cache().shuffle(1000).prefetch(buffer_size=AUTOTUNE)\n",
        "val_ds = val_ds.cache().prefetch(buffer_size=AUTOTUNE)\n",
        "\n",
        "print(\"\\nDatasets are loaded, prepared, and ready for training.\")"
      ]
    },
    {
      "cell_type": "code",
      "execution_count": 6,
      "metadata": {
        "id": "NUf7UHA8N9IR"
      },
      "outputs": [],
      "source": [
        "#data preparation\n",
        "\n",
        "#resizing\n",
        "\n",
        "#normalizing\n",
        "\n",
        "#batching"
      ]
    },
    {
      "cell_type": "code",
      "execution_count": 7,
      "metadata": {
        "id": "2S60fcB9ONUt"
      },
      "outputs": [],
      "source": [
        "#feature engineering"
      ]
    },
    {
      "cell_type": "code",
      "execution_count": 8,
      "metadata": {
        "id": "nxYV__BVOO8S",
        "colab": {
          "base_uri": "https://localhost:8080/",
          "height": 403
        },
        "outputId": "3a42e06a-da1d-4369-c745-fa36622c75df"
      },
      "outputs": [
        {
          "output_type": "display_data",
          "data": {
            "text/plain": [
              "\u001b[1mModel: \"functional_1\"\u001b[0m\n"
            ],
            "text/html": [
              "<pre style=\"white-space:pre;overflow-x:auto;line-height:normal;font-family:Menlo,'DejaVu Sans Mono',consolas,'Courier New',monospace\"><span style=\"font-weight: bold\">Model: \"functional_1\"</span>\n",
              "</pre>\n"
            ]
          },
          "metadata": {}
        },
        {
          "output_type": "display_data",
          "data": {
            "text/plain": [
              "┏━━━━━━━━━━━━━━━━━━━━━━━━━━━━━━━━━┳━━━━━━━━━━━━━━━━━━━━━━━━┳━━━━━━━━━━━━━━━┓\n",
              "┃\u001b[1m \u001b[0m\u001b[1mLayer (type)                   \u001b[0m\u001b[1m \u001b[0m┃\u001b[1m \u001b[0m\u001b[1mOutput Shape          \u001b[0m\u001b[1m \u001b[0m┃\u001b[1m \u001b[0m\u001b[1m      Param #\u001b[0m\u001b[1m \u001b[0m┃\n",
              "┡━━━━━━━━━━━━━━━━━━━━━━━━━━━━━━━━━╇━━━━━━━━━━━━━━━━━━━━━━━━╇━━━━━━━━━━━━━━━┩\n",
              "│ input_layer_1 (\u001b[38;5;33mInputLayer\u001b[0m)      │ (\u001b[38;5;45mNone\u001b[0m, \u001b[38;5;34m224\u001b[0m, \u001b[38;5;34m224\u001b[0m, \u001b[38;5;34m3\u001b[0m)    │             \u001b[38;5;34m0\u001b[0m │\n",
              "├─────────────────────────────────┼────────────────────────┼───────────────┤\n",
              "│ data_augmentation (\u001b[38;5;33mSequential\u001b[0m)  │ (\u001b[38;5;45mNone\u001b[0m, \u001b[38;5;34m224\u001b[0m, \u001b[38;5;34m224\u001b[0m, \u001b[38;5;34m3\u001b[0m)    │             \u001b[38;5;34m0\u001b[0m │\n",
              "├─────────────────────────────────┼────────────────────────┼───────────────┤\n",
              "│ rescaling (\u001b[38;5;33mRescaling\u001b[0m)           │ (\u001b[38;5;45mNone\u001b[0m, \u001b[38;5;34m224\u001b[0m, \u001b[38;5;34m224\u001b[0m, \u001b[38;5;34m3\u001b[0m)    │             \u001b[38;5;34m0\u001b[0m │\n",
              "├─────────────────────────────────┼────────────────────────┼───────────────┤\n",
              "│ mobilenetv2_1.00_224            │ (\u001b[38;5;45mNone\u001b[0m, \u001b[38;5;34m7\u001b[0m, \u001b[38;5;34m7\u001b[0m, \u001b[38;5;34m1280\u001b[0m)     │     \u001b[38;5;34m2,257,984\u001b[0m │\n",
              "│ (\u001b[38;5;33mFunctional\u001b[0m)                    │                        │               │\n",
              "├─────────────────────────────────┼────────────────────────┼───────────────┤\n",
              "│ global_average_pooling2d        │ (\u001b[38;5;45mNone\u001b[0m, \u001b[38;5;34m1280\u001b[0m)           │             \u001b[38;5;34m0\u001b[0m │\n",
              "│ (\u001b[38;5;33mGlobalAveragePooling2D\u001b[0m)        │                        │               │\n",
              "├─────────────────────────────────┼────────────────────────┼───────────────┤\n",
              "│ dropout (\u001b[38;5;33mDropout\u001b[0m)               │ (\u001b[38;5;45mNone\u001b[0m, \u001b[38;5;34m1280\u001b[0m)           │             \u001b[38;5;34m0\u001b[0m │\n",
              "├─────────────────────────────────┼────────────────────────┼───────────────┤\n",
              "│ dense (\u001b[38;5;33mDense\u001b[0m)                   │ (\u001b[38;5;45mNone\u001b[0m, \u001b[38;5;34m3\u001b[0m)              │         \u001b[38;5;34m3,843\u001b[0m │\n",
              "└─────────────────────────────────┴────────────────────────┴───────────────┘\n"
            ],
            "text/html": [
              "<pre style=\"white-space:pre;overflow-x:auto;line-height:normal;font-family:Menlo,'DejaVu Sans Mono',consolas,'Courier New',monospace\">┏━━━━━━━━━━━━━━━━━━━━━━━━━━━━━━━━━┳━━━━━━━━━━━━━━━━━━━━━━━━┳━━━━━━━━━━━━━━━┓\n",
              "┃<span style=\"font-weight: bold\"> Layer (type)                    </span>┃<span style=\"font-weight: bold\"> Output Shape           </span>┃<span style=\"font-weight: bold\">       Param # </span>┃\n",
              "┡━━━━━━━━━━━━━━━━━━━━━━━━━━━━━━━━━╇━━━━━━━━━━━━━━━━━━━━━━━━╇━━━━━━━━━━━━━━━┩\n",
              "│ input_layer_1 (<span style=\"color: #0087ff; text-decoration-color: #0087ff\">InputLayer</span>)      │ (<span style=\"color: #00d7ff; text-decoration-color: #00d7ff\">None</span>, <span style=\"color: #00af00; text-decoration-color: #00af00\">224</span>, <span style=\"color: #00af00; text-decoration-color: #00af00\">224</span>, <span style=\"color: #00af00; text-decoration-color: #00af00\">3</span>)    │             <span style=\"color: #00af00; text-decoration-color: #00af00\">0</span> │\n",
              "├─────────────────────────────────┼────────────────────────┼───────────────┤\n",
              "│ data_augmentation (<span style=\"color: #0087ff; text-decoration-color: #0087ff\">Sequential</span>)  │ (<span style=\"color: #00d7ff; text-decoration-color: #00d7ff\">None</span>, <span style=\"color: #00af00; text-decoration-color: #00af00\">224</span>, <span style=\"color: #00af00; text-decoration-color: #00af00\">224</span>, <span style=\"color: #00af00; text-decoration-color: #00af00\">3</span>)    │             <span style=\"color: #00af00; text-decoration-color: #00af00\">0</span> │\n",
              "├─────────────────────────────────┼────────────────────────┼───────────────┤\n",
              "│ rescaling (<span style=\"color: #0087ff; text-decoration-color: #0087ff\">Rescaling</span>)           │ (<span style=\"color: #00d7ff; text-decoration-color: #00d7ff\">None</span>, <span style=\"color: #00af00; text-decoration-color: #00af00\">224</span>, <span style=\"color: #00af00; text-decoration-color: #00af00\">224</span>, <span style=\"color: #00af00; text-decoration-color: #00af00\">3</span>)    │             <span style=\"color: #00af00; text-decoration-color: #00af00\">0</span> │\n",
              "├─────────────────────────────────┼────────────────────────┼───────────────┤\n",
              "│ mobilenetv2_1.00_224            │ (<span style=\"color: #00d7ff; text-decoration-color: #00d7ff\">None</span>, <span style=\"color: #00af00; text-decoration-color: #00af00\">7</span>, <span style=\"color: #00af00; text-decoration-color: #00af00\">7</span>, <span style=\"color: #00af00; text-decoration-color: #00af00\">1280</span>)     │     <span style=\"color: #00af00; text-decoration-color: #00af00\">2,257,984</span> │\n",
              "│ (<span style=\"color: #0087ff; text-decoration-color: #0087ff\">Functional</span>)                    │                        │               │\n",
              "├─────────────────────────────────┼────────────────────────┼───────────────┤\n",
              "│ global_average_pooling2d        │ (<span style=\"color: #00d7ff; text-decoration-color: #00d7ff\">None</span>, <span style=\"color: #00af00; text-decoration-color: #00af00\">1280</span>)           │             <span style=\"color: #00af00; text-decoration-color: #00af00\">0</span> │\n",
              "│ (<span style=\"color: #0087ff; text-decoration-color: #0087ff\">GlobalAveragePooling2D</span>)        │                        │               │\n",
              "├─────────────────────────────────┼────────────────────────┼───────────────┤\n",
              "│ dropout (<span style=\"color: #0087ff; text-decoration-color: #0087ff\">Dropout</span>)               │ (<span style=\"color: #00d7ff; text-decoration-color: #00d7ff\">None</span>, <span style=\"color: #00af00; text-decoration-color: #00af00\">1280</span>)           │             <span style=\"color: #00af00; text-decoration-color: #00af00\">0</span> │\n",
              "├─────────────────────────────────┼────────────────────────┼───────────────┤\n",
              "│ dense (<span style=\"color: #0087ff; text-decoration-color: #0087ff\">Dense</span>)                   │ (<span style=\"color: #00d7ff; text-decoration-color: #00d7ff\">None</span>, <span style=\"color: #00af00; text-decoration-color: #00af00\">3</span>)              │         <span style=\"color: #00af00; text-decoration-color: #00af00\">3,843</span> │\n",
              "└─────────────────────────────────┴────────────────────────┴───────────────┘\n",
              "</pre>\n"
            ]
          },
          "metadata": {}
        },
        {
          "output_type": "display_data",
          "data": {
            "text/plain": [
              "\u001b[1m Total params: \u001b[0m\u001b[38;5;34m2,261,827\u001b[0m (8.63 MB)\n"
            ],
            "text/html": [
              "<pre style=\"white-space:pre;overflow-x:auto;line-height:normal;font-family:Menlo,'DejaVu Sans Mono',consolas,'Courier New',monospace\"><span style=\"font-weight: bold\"> Total params: </span><span style=\"color: #00af00; text-decoration-color: #00af00\">2,261,827</span> (8.63 MB)\n",
              "</pre>\n"
            ]
          },
          "metadata": {}
        },
        {
          "output_type": "display_data",
          "data": {
            "text/plain": [
              "\u001b[1m Trainable params: \u001b[0m\u001b[38;5;34m3,843\u001b[0m (15.01 KB)\n"
            ],
            "text/html": [
              "<pre style=\"white-space:pre;overflow-x:auto;line-height:normal;font-family:Menlo,'DejaVu Sans Mono',consolas,'Courier New',monospace\"><span style=\"font-weight: bold\"> Trainable params: </span><span style=\"color: #00af00; text-decoration-color: #00af00\">3,843</span> (15.01 KB)\n",
              "</pre>\n"
            ]
          },
          "metadata": {}
        },
        {
          "output_type": "display_data",
          "data": {
            "text/plain": [
              "\u001b[1m Non-trainable params: \u001b[0m\u001b[38;5;34m2,257,984\u001b[0m (8.61 MB)\n"
            ],
            "text/html": [
              "<pre style=\"white-space:pre;overflow-x:auto;line-height:normal;font-family:Menlo,'DejaVu Sans Mono',consolas,'Courier New',monospace\"><span style=\"font-weight: bold\"> Non-trainable params: </span><span style=\"color: #00af00; text-decoration-color: #00af00\">2,257,984</span> (8.61 MB)\n",
              "</pre>\n"
            ]
          },
          "metadata": {}
        }
      ],
      "source": [
        "#model selection and training\n",
        "# --- 4. PREPARE THE MODEL (Transfer Learning) ---\n",
        "\n",
        "# Create a data augmentation layer to prevent overfitting and improve generalization.\n",
        "#randomly changes the postion and orientation to improve training\n",
        "data_augmentation = tf.keras.Sequential([\n",
        "  tf.keras.layers.RandomFlip('horizontal'),\n",
        "  tf.keras.layers.RandomRotation(0.2),\n",
        "  tf.keras.layers.RandomZoom(0.2),\n",
        "], name=\"data_augmentation\")\n",
        "\n",
        "# Get the specific preprocessing function required for MobileV2\n",
        "#is this normalization\n",
        "#preprocess_input = tf.keras.applications.mobilenet_v2.preprocess_input\n",
        "\n",
        "# Load the pre-trained base model from Keras.\n",
        "# We freeze its weights so we only train our new final layers.\n",
        "base_model = tf.keras.applications.MobileNetV2(input_shape=(IMG_HEIGHT, IMG_WIDTH, 3),\n",
        "                                               include_top=False, # Don't include the final ImageNet classifier\n",
        "                                               weights='imagenet')\n",
        "base_model.trainable = False # Freeze the convolutional base\n",
        "\n",
        "# Create our own classification head to place on top of the base model\n",
        "inputs = tf.keras.Input(shape=(IMG_HEIGHT, IMG_WIDTH, 3))\n",
        "x = data_augmentation(inputs)      # 1. Apply augmentation\n",
        "x = Rescaling(1./127.5, offset=-1)(x)            # 2. Preprocess for MobileNetV2\n",
        "x = base_model(x, training=False)  # 3. Run the base model\n",
        "x = tf.keras.layers.GlobalAveragePooling2D()(x) # 4. Pool features to a single vector, final layer before final\n",
        "x = tf.keras.layers.Dropout(0.2)(x) # 5. Add dropout to prevent overfitting, randomly turns off nuerons to improve operability\n",
        "outputs = tf.keras.layers.Dense(num_classes, activation='softmax')(x) # 6. Final prediction layer\n",
        "\n",
        "# Chain all the pieces together into the final model\n",
        "model = tf.keras.Model(inputs, outputs)\n",
        "\n",
        "# Print a summary of the model's architecture\n",
        "model.summary()"
      ]
    },
    {
      "cell_type": "code",
      "execution_count": 9,
      "metadata": {
        "id": "_roCIMZgBSRM",
        "colab": {
          "base_uri": "https://localhost:8080/"
        },
        "outputId": "e310f23f-cd3a-47ce-de10-46d9c210b45e"
      },
      "outputs": [
        {
          "output_type": "stream",
          "name": "stdout",
          "text": [
            "Model compiled successfully.\n"
          ]
        }
      ],
      "source": [
        "# Compile the model, configuring it for training\n",
        "#come back and do more research on alternatives, or ways\n",
        "model.compile(optimizer=tf.keras.optimizers.Adam(learning_rate=LEARNING_RATE),\n",
        "              loss='categorical_crossentropy',\n",
        "              metrics=['accuracy'])\n",
        "\n",
        "print(\"Model compiled successfully.\")"
      ]
    },
    {
      "cell_type": "code",
      "execution_count": 10,
      "metadata": {
        "colab": {
          "base_uri": "https://localhost:8080/"
        },
        "id": "zqy8fqwVOTLP",
        "outputId": "c9a126bc-b05a-42b1-eb75-dfaf74254ea9"
      },
      "outputs": [
        {
          "output_type": "stream",
          "name": "stdout",
          "text": [
            "Starting model training...\n",
            "Epoch 1/10\n",
            "\u001b[1m18/18\u001b[0m \u001b[32m━━━━━━━━━━━━━━━━━━━━\u001b[0m\u001b[37m\u001b[0m \u001b[1m30s\u001b[0m 1s/step - accuracy: 0.4024 - loss: 1.1691 - val_accuracy: 0.4638 - val_loss: 1.0312\n",
            "Epoch 2/10\n",
            "\u001b[1m18/18\u001b[0m \u001b[32m━━━━━━━━━━━━━━━━━━━━\u001b[0m\u001b[37m\u001b[0m \u001b[1m36s\u001b[0m 1s/step - accuracy: 0.5262 - loss: 0.9159 - val_accuracy: 0.5507 - val_loss: 0.9030\n",
            "Epoch 3/10\n",
            "\u001b[1m18/18\u001b[0m \u001b[32m━━━━━━━━━━━━━━━━━━━━\u001b[0m\u001b[37m\u001b[0m \u001b[1m21s\u001b[0m 1s/step - accuracy: 0.5663 - loss: 0.8893 - val_accuracy: 0.5507 - val_loss: 0.8788\n",
            "Epoch 4/10\n",
            "\u001b[1m18/18\u001b[0m \u001b[32m━━━━━━━━━━━━━━━━━━━━\u001b[0m\u001b[37m\u001b[0m \u001b[1m18s\u001b[0m 1s/step - accuracy: 0.5653 - loss: 0.8904 - val_accuracy: 0.6087 - val_loss: 0.8240\n",
            "Epoch 5/10\n",
            "\u001b[1m18/18\u001b[0m \u001b[32m━━━━━━━━━━━━━━━━━━━━\u001b[0m\u001b[37m\u001b[0m \u001b[1m21s\u001b[0m 1s/step - accuracy: 0.5810 - loss: 0.8345 - val_accuracy: 0.7246 - val_loss: 0.7194\n",
            "Epoch 6/10\n",
            "\u001b[1m18/18\u001b[0m \u001b[32m━━━━━━━━━━━━━━━━━━━━\u001b[0m\u001b[37m\u001b[0m \u001b[1m19s\u001b[0m 947ms/step - accuracy: 0.6427 - loss: 0.8347 - val_accuracy: 0.6522 - val_loss: 0.7625\n",
            "Epoch 7/10\n",
            "\u001b[1m18/18\u001b[0m \u001b[32m━━━━━━━━━━━━━━━━━━━━\u001b[0m\u001b[37m\u001b[0m \u001b[1m16s\u001b[0m 916ms/step - accuracy: 0.6369 - loss: 0.7817 - val_accuracy: 0.6522 - val_loss: 0.7868\n",
            "Epoch 8/10\n",
            "\u001b[1m18/18\u001b[0m \u001b[32m━━━━━━━━━━━━━━━━━━━━\u001b[0m\u001b[37m\u001b[0m \u001b[1m21s\u001b[0m 927ms/step - accuracy: 0.7088 - loss: 0.7175 - val_accuracy: 0.5942 - val_loss: 0.8325\n",
            "Epoch 9/10\n",
            "\u001b[1m18/18\u001b[0m \u001b[32m━━━━━━━━━━━━━━━━━━━━\u001b[0m\u001b[37m\u001b[0m \u001b[1m16s\u001b[0m 923ms/step - accuracy: 0.6931 - loss: 0.6726 - val_accuracy: 0.6232 - val_loss: 0.7437\n",
            "Epoch 10/10\n",
            "\u001b[1m18/18\u001b[0m \u001b[32m━━━━━━━━━━━━━━━━━━━━\u001b[0m\u001b[37m\u001b[0m \u001b[1m19s\u001b[0m 1s/step - accuracy: 0.6961 - loss: 0.7481 - val_accuracy: 0.6667 - val_loss: 0.7138\n",
            "Model training complete.\n"
          ]
        }
      ],
      "source": [
        "#train model\n",
        "# Set the number of epochs to train for\n",
        "# Start the training process\n",
        "\n",
        "print(\"Starting model training...\")\n",
        "history = model.fit(\n",
        "  train_ds,\n",
        "  validation_data=val_ds,\n",
        "  epochs=EPOCHS\n",
        ")\n",
        "\n",
        "print(\"Model training complete.\")"
      ]
    },
    {
      "cell_type": "code",
      "execution_count": 18,
      "metadata": {
        "colab": {
          "base_uri": "https://localhost:8080/",
          "height": 1000
        },
        "id": "BBrz01-mBx3x",
        "outputId": "cec9ea31-f4c1-45bb-f732-277f6e34b905"
      },
      "outputs": [
        {
          "output_type": "display_data",
          "data": {
            "text/plain": [
              "<Figure size 1200x600 with 2 Axes>"
            ],
            "image/png": "[encoded data removed]"
          },
          "metadata": {}
        },
        {
          "output_type": "stream",
          "name": "stdout",
          "text": [
            "\u001b[1m1/1\u001b[0m \u001b[32m━━━━━━━━━━━━━━━━━━━━\u001b[0m\u001b[37m\u001b[0m \u001b[1m1s\u001b[0m 964ms/step\n",
            "\u001b[1m1/1\u001b[0m \u001b[32m━━━━━━━━━━━━━━━━━━━━\u001b[0m\u001b[37m\u001b[0m \u001b[1m1s\u001b[0m 765ms/step\n",
            "\u001b[1m1/1\u001b[0m \u001b[32m━━━━━━━━━━━━━━━━━━━━\u001b[0m\u001b[37m\u001b[0m \u001b[1m2s\u001b[0m 2s/step\n",
            "\u001b[1m1/1\u001b[0m \u001b[32m━━━━━━━━━━━━━━━━━━━━\u001b[0m\u001b[37m\u001b[0m \u001b[1m1s\u001b[0m 1s/step\n",
            "\u001b[1m1/1\u001b[0m \u001b[32m━━━━━━━━━━━━━━━━━━━━\u001b[0m\u001b[37m\u001b[0m \u001b[1m0s\u001b[0m 237ms/step\n"
          ]
        },
        {
          "output_type": "display_data",
          "data": {
            "text/plain": [
              "<Figure size 800x600 with 2 Axes>"
            ],
            "image/png": "[encoded data removed]"
          },
          "metadata": {}
        },
        {
          "output_type": "stream",
          "name": "stdout",
          "text": [
            "              precision    recall  f1-score   support\n",
            "\n",
            "bolt_0.125in       0.81      0.59      0.68        29\n",
            " bolt_0.25in       0.68      0.75      0.71        20\n",
            "bolt_0.375in       0.54      0.70      0.61        20\n",
            "\n",
            "    accuracy                           0.67        69\n",
            "   macro avg       0.68      0.68      0.67        69\n",
            "weighted avg       0.69      0.67      0.67        69\n",
            "\n"
          ]
        }
      ],
      "source": [
        "#training metrics\n",
        "# Extract the accuracy history\n",
        "acc = history.history['accuracy']\n",
        "val_acc = history.history['val_accuracy']\n",
        "\n",
        "# Extract the loss history\n",
        "loss = history.history['loss']\n",
        "val_loss = history.history['val_loss']\n",
        "\n",
        "# Get the number of epochs\n",
        "epochs_range = range(EPOCHS)\n",
        "\n",
        "# Plot Training and Validation Accuracy\n",
        "plt.figure(figsize=(12, 6))\n",
        "plt.subplot(1, 2, 1)\n",
        "plt.plot(epochs_range, acc, label='Training Accuracy')\n",
        "plt.plot(epochs_range, val_acc, label='Validation Accuracy')\n",
        "plt.legend(loc='lower right')\n",
        "plt.title('Training and Validation Accuracy')\n",
        "plt.xlabel('Epoch')\n",
        "plt.ylabel('Accuracy')\n",
        "\n",
        "# Plot Training and Validation Loss\n",
        "plt.subplot(1, 2, 2)\n",
        "plt.plot(epochs_range, loss, label='Training Loss')\n",
        "plt.plot(epochs_range, val_loss, label='Validation Loss')\n",
        "plt.legend(loc='upper right')\n",
        "plt.title('Training and Validation Loss')\n",
        "plt.xlabel('Epoch')\n",
        "plt.ylabel('Loss')\n",
        "\n",
        "plt.show()\n",
        "\n",
        "#additional validation stuff to add\n",
        "#confusion matrices, other parameters\n",
        "# 1. Get the true labels and predictions from the validation set\n",
        "y_pred = []  # Store predicted labels\n",
        "y_true = []  # Store true labels\n",
        "\n",
        "# Iterate over the validation dataset\n",
        "for image_batch, label_batch in val_ds:\n",
        "   # Append true labels\n",
        "   y_true.extend(np.argmax(label_batch.numpy(), axis=-1))\n",
        "   # Get model predictions\n",
        "   preds = model.predict(image_batch)\n",
        "   # Append predicted labels\n",
        "   y_pred.extend(np.argmax(preds, axis=-1))\n",
        "\n",
        "# 2. Calculate the confusion matrix\n",
        "cm = confusion_matrix(y_true, y_pred)\n",
        "\n",
        "# 3. Visualize the confusion matrix using a heatmap\n",
        "plt.figure(figsize=(8, 6))\n",
        "sns.heatmap(cm, annot=True, fmt='d', cmap='Blues',\n",
        "            xticklabels=class_names, yticklabels=class_names)\n",
        "plt.xlabel('Predicted Label')\n",
        "plt.ylabel('True Label')\n",
        "plt.title('Confusion Matrix')\n",
        "plt.show()\n",
        "\n",
        "# Generate and print the classification report\n",
        "print(classification_report(y_true, y_pred, target_names=class_names))"
      ]
    },
    {
      "cell_type": "code",
      "execution_count": 12,
      "metadata": {
        "colab": {
          "base_uri": "https://localhost:8080/"
        },
        "id": "blpwE16H6A33",
        "outputId": "e81d758a-fe07-4ec7-c6d3-29e05a30b814"
      },
      "outputs": [
        {
          "output_type": "stream",
          "name": "stdout",
          "text": [
            "Model saved to: /content/drive/MyDrive/24-679 AI ML Projects/Project 0/thread_checker_model.keras\n"
          ]
        }
      ],
      "source": [
        "#saving trained model for GUI usage\n",
        "\n",
        "# Define a path in your Google Drive.\n",
        "# '/content/drive/MyDrive/' is the standard path to your main \"My Drive\" folder.\n",
        "model_path = '/content/drive/MyDrive/24-679 AI ML Projects/Project 0/thread_checker_model.keras'\n",
        "\n",
        "# Save the model to the specified path.\n",
        "model.save(model_path)\n",
        "\n",
        "print(f\"Model saved to: {model_path}\")"
      ]
    },
    {
      "cell_type": "code",
      "execution_count": 13,
      "metadata": {
        "colab": {
          "base_uri": "https://localhost:8080/"
        },
        "id": "90Fg_t9jBA0Z",
        "outputId": "3addca6a-44ae-4a0e-d2ea-f96752d411e5"
      },
      "outputs": [
        {
          "output_type": "stream",
          "name": "stdout",
          "text": [
            "Scanning directory: /content/Thread Checker Rev 1, bolts only/training/\n",
            "WARNING: No leaf directories found. Did not generate a map.\n"
          ]
        }
      ],
      "source": [
        "#save a JSON of directory data for GUI\n",
        "# --- CONFIGURE YOUR PATHS HERE ---\n",
        "DATASET_PATH = '/content/Thread Checker Rev 1, bolts only/training/' # Path to the dataset\n",
        "OUTPUT_FILE_PATH = '/content/drive/MyDrive/24-679 AI ML Projects/Project 0/class_map.json' # Output JSON file\n",
        "\n",
        "# --- SCRIPT TO BUILD THE NESTED MAP ---\n",
        "class_map = {}\n",
        "class_index = 0\n",
        "print(f\"Scanning directory: {DATASET_PATH}\")\n",
        "\n",
        "# os.walk goes through every folder and subfolder\n",
        "for root, dirs, files in os.walk(DATASET_PATH):\n",
        "    # We are looking for the deepest folders which contain the images\n",
        "    if not dirs: # If a folder has no subdirectories, it's a leaf folder\n",
        "        # Get the full path label, like 'bolts/Hex_Bolt_0.25'\n",
        "        full_label = os.path.relpath(root, DATASET_PATH)\n",
        "\n",
        "        # This is the unique key your model will be trained to recognize\n",
        "        # Keras/TF use the full path as the class name in this case\n",
        "        class_map[full_label] = class_index\n",
        "        class_index += 1\n",
        "\n",
        "if not class_map:\n",
        "    print(\"WARNING: No leaf directories found. Did not generate a map.\")\n",
        "else:\n",
        "    # Save the structured dictionary to a JSON file\n",
        "    with open(OUTPUT_FILE_PATH, 'w') as f:\n",
        "        json.dump(class_map, f, indent=2)\n",
        "    print(f\"✅ Successfully created class map with {len(class_map)} entries at {OUTPUT_FILE_PATH}\")\n",
        "\n"
      ]
    },
    {
      "cell_type": "code",
      "execution_count": 14,
      "metadata": {
        "colab": {
          "base_uri": "https://localhost:8080/",
          "height": 70
        },
        "id": "jUlaYWRS1B2x",
        "outputId": "80df1e38-5e08-4d45-e958-ebc7445c5825"
      },
      "outputs": [
        {
          "output_type": "execute_result",
          "data": {
            "text/plain": [
              "\"\\n# Unfreeze the base model\\nbase_model.trainable = True\\n\\n# Re-compile the model with a very low learning rate\\nmodel.compile(optimizer=tf.keras.optimizers.Adam(learning_rate=1e-5), # 10x smaller\\n              loss='categorical_crossentropy',\\n              metrics=['accuracy'])\\n\\n# Continue training for a few more epochs\\nfine_tune_epochs = 10\\ntotal_epochs = epochs + fine_tune_epochs\\n\\nhistory_fine = model.fit(train_ds,\\n                         epochs=total_epochs,\\n                         initial_epoch=history.epoch[-1],\\n                         validation_data=val_ds)\\n\""
            ],
            "application/vnd.google.colaboratory.intrinsic+json": {
              "type": "string"
            }
          },
          "metadata": {},
          "execution_count": 14
        }
      ],
      "source": [
        "##fine tuning if desired?\n",
        "\"\"\"\n",
        "# Unfreeze the base model\n",
        "base_model.trainable = True\n",
        "\n",
        "# Re-compile the model with a very low learning rate\n",
        "model.compile(optimizer=tf.keras.optimizers.Adam(learning_rate=1e-5), # 10x smaller\n",
        "              loss='categorical_crossentropy',\n",
        "              metrics=['accuracy'])\n",
        "\n",
        "# Continue training for a few more epochs\n",
        "fine_tune_epochs = 10\n",
        "total_epochs = epochs + fine_tune_epochs\n",
        "\n",
        "history_fine = model.fit(train_ds,\n",
        "                         epochs=total_epochs,\n",
        "                         initial_epoch=history.epoch[-1],\n",
        "                         validation_data=val_ds)\n",
        "\"\"\""
      ]
    }
  ],
  "metadata": {
    "colab": {
      "provenance": [],
      "mount_file_id": "1ZKLHx1WZ39TTMR01ocx6TXgXo_xYBaHD",
      "authorship_tag": "ABX9TyOcPxYtBdHm+EYHEqxIOGgM",
      "include_colab_link": true
    },
    "kernelspec": {
      "display_name": "Python 3",
      "name": "python3"
    },
    "language_info": {
      "name": "python"
    }
  },
  "nbformat": 4,
  "nbformat_minor": 0
}